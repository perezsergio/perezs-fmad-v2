{
 "cells": [
  {
   "cell_type": "markdown",
   "id": "3a40a95b",
   "metadata": {},
   "source": [
    "# Solución Examen 2021 con Python\n"
   ]
  },
  {
   "cell_type": "markdown",
   "id": "b2d85601",
   "metadata": {},
   "source": [
    "## Carga de las librerías estándar de Data Science con Python\n"
   ]
  },
  {
   "cell_type": "code",
   "execution_count": 4,
   "id": "10b9b0bf",
   "metadata": {},
   "outputs": [],
   "source": [
    "# Standard Data Science Libraries Import\n",
    "\n",
    "import numpy as np\n",
    "import pandas as pd\n",
    "import matplotlib.pyplot as plt\n",
    "import scipy as scp\n",
    "import seaborn as sns\n",
    "import scipy.stats as stats\n",
    "import statsmodels.api as sm\n",
    "\n",
    "# sns.set(rc={'figure.figsize':(12, 8.5)})\n",
    "sns.set()\n"
   ]
  },
  {
   "cell_type": "markdown",
   "id": "5a95ac09",
   "metadata": {},
   "source": [
    "# Preguntas del examen\n",
    "\n",
    "## Preliminares\n",
    "\n",
    "- Lee el fichero de datos y crea un `data.frame` o `tibble` de R llamado `empleados`, que usaremos para el resto del examen.\n",
    "\n",
    "* url de los datos: https://gist.githubusercontent.com/fsansegundo/b6041a4fce47b9caa9a4773594d99290/raw/d55fdf75dd30b5f47bc1b3504f9c5a039fc203a1/empleados.csv\n"
   ]
  },
  {
   "cell_type": "code",
   "execution_count": 5,
   "id": "223631c3",
   "metadata": {},
   "outputs": [
    {
     "data": {
      "text/html": [
       "<div>\n",
       "<style scoped>\n",
       "    .dataframe tbody tr th:only-of-type {\n",
       "        vertical-align: middle;\n",
       "    }\n",
       "\n",
       "    .dataframe tbody tr th {\n",
       "        vertical-align: top;\n",
       "    }\n",
       "\n",
       "    .dataframe thead th {\n",
       "        text-align: right;\n",
       "    }\n",
       "</style>\n",
       "<table border=\"1\" class=\"dataframe\">\n",
       "  <thead>\n",
       "    <tr style=\"text-align: right;\">\n",
       "      <th></th>\n",
       "      <th>Age</th>\n",
       "      <th>Attrition</th>\n",
       "      <th>BusinessTravel</th>\n",
       "      <th>Department</th>\n",
       "      <th>DistanceFromHome</th>\n",
       "      <th>Gender</th>\n",
       "      <th>JobLevel</th>\n",
       "      <th>JobRole</th>\n",
       "      <th>JobSatisfaction</th>\n",
       "      <th>MaritalStatus</th>\n",
       "      <th>...</th>\n",
       "      <th>NumCompaniesWorked</th>\n",
       "      <th>OverTime</th>\n",
       "      <th>PerformanceRating</th>\n",
       "      <th>TotalWorkingYears</th>\n",
       "      <th>TrainingTimesLastYear</th>\n",
       "      <th>YearsAtCompany</th>\n",
       "      <th>YearsInCurrentRole</th>\n",
       "      <th>RateType</th>\n",
       "      <th>Rate</th>\n",
       "      <th>Education_Field</th>\n",
       "    </tr>\n",
       "  </thead>\n",
       "  <tbody>\n",
       "    <tr>\n",
       "      <th>0</th>\n",
       "      <td>31</td>\n",
       "      <td>No</td>\n",
       "      <td>Travel_Rarely</td>\n",
       "      <td>Research_Development</td>\n",
       "      <td>23.0</td>\n",
       "      <td>Male</td>\n",
       "      <td>2</td>\n",
       "      <td>Healthcare_Representative</td>\n",
       "      <td>Very_High</td>\n",
       "      <td>Married</td>\n",
       "      <td>...</td>\n",
       "      <td>0.0</td>\n",
       "      <td>No</td>\n",
       "      <td>Outstanding</td>\n",
       "      <td>10</td>\n",
       "      <td>2</td>\n",
       "      <td>9</td>\n",
       "      <td>0</td>\n",
       "      <td>DailyRate</td>\n",
       "      <td>1463</td>\n",
       "      <td>Bachelor//Medical</td>\n",
       "    </tr>\n",
       "    <tr>\n",
       "      <th>1</th>\n",
       "      <td>31</td>\n",
       "      <td>No</td>\n",
       "      <td>Travel_Rarely</td>\n",
       "      <td>Research_Development</td>\n",
       "      <td>23.0</td>\n",
       "      <td>Male</td>\n",
       "      <td>2</td>\n",
       "      <td>Healthcare_Representative</td>\n",
       "      <td>Very_High</td>\n",
       "      <td>Married</td>\n",
       "      <td>...</td>\n",
       "      <td>0.0</td>\n",
       "      <td>No</td>\n",
       "      <td>Outstanding</td>\n",
       "      <td>10</td>\n",
       "      <td>2</td>\n",
       "      <td>9</td>\n",
       "      <td>0</td>\n",
       "      <td>HourlyRate</td>\n",
       "      <td>64</td>\n",
       "      <td>Bachelor//Medical</td>\n",
       "    </tr>\n",
       "    <tr>\n",
       "      <th>2</th>\n",
       "      <td>31</td>\n",
       "      <td>No</td>\n",
       "      <td>Travel_Rarely</td>\n",
       "      <td>Research_Development</td>\n",
       "      <td>23.0</td>\n",
       "      <td>Male</td>\n",
       "      <td>2</td>\n",
       "      <td>Healthcare_Representative</td>\n",
       "      <td>Very_High</td>\n",
       "      <td>Married</td>\n",
       "      <td>...</td>\n",
       "      <td>0.0</td>\n",
       "      <td>No</td>\n",
       "      <td>Outstanding</td>\n",
       "      <td>10</td>\n",
       "      <td>2</td>\n",
       "      <td>9</td>\n",
       "      <td>0</td>\n",
       "      <td>MonthlyRate</td>\n",
       "      <td>14408</td>\n",
       "      <td>Bachelor//Medical</td>\n",
       "    </tr>\n",
       "    <tr>\n",
       "      <th>3</th>\n",
       "      <td>31</td>\n",
       "      <td>Yes</td>\n",
       "      <td>Travel_Frequently</td>\n",
       "      <td>Research_Development</td>\n",
       "      <td>15.0</td>\n",
       "      <td>Male</td>\n",
       "      <td>1</td>\n",
       "      <td>Laboratory_Technician</td>\n",
       "      <td>High</td>\n",
       "      <td>Married</td>\n",
       "      <td>...</td>\n",
       "      <td>1.0</td>\n",
       "      <td>No</td>\n",
       "      <td>Excellent</td>\n",
       "      <td>2</td>\n",
       "      <td>5</td>\n",
       "      <td>2</td>\n",
       "      <td>2</td>\n",
       "      <td>DailyRate</td>\n",
       "      <td>874</td>\n",
       "      <td>Bachelor//Medical</td>\n",
       "    </tr>\n",
       "    <tr>\n",
       "      <th>4</th>\n",
       "      <td>31</td>\n",
       "      <td>Yes</td>\n",
       "      <td>Travel_Frequently</td>\n",
       "      <td>Research_Development</td>\n",
       "      <td>15.0</td>\n",
       "      <td>Male</td>\n",
       "      <td>1</td>\n",
       "      <td>Laboratory_Technician</td>\n",
       "      <td>High</td>\n",
       "      <td>Married</td>\n",
       "      <td>...</td>\n",
       "      <td>1.0</td>\n",
       "      <td>No</td>\n",
       "      <td>Excellent</td>\n",
       "      <td>2</td>\n",
       "      <td>5</td>\n",
       "      <td>2</td>\n",
       "      <td>2</td>\n",
       "      <td>HourlyRate</td>\n",
       "      <td>72</td>\n",
       "      <td>Bachelor//Medical</td>\n",
       "    </tr>\n",
       "  </tbody>\n",
       "</table>\n",
       "<p>5 rows × 21 columns</p>\n",
       "</div>"
      ],
      "text/plain": [
       "   Age Attrition     BusinessTravel            Department  DistanceFromHome  \\\n",
       "0   31        No      Travel_Rarely  Research_Development              23.0   \n",
       "1   31        No      Travel_Rarely  Research_Development              23.0   \n",
       "2   31        No      Travel_Rarely  Research_Development              23.0   \n",
       "3   31       Yes  Travel_Frequently  Research_Development              15.0   \n",
       "4   31       Yes  Travel_Frequently  Research_Development              15.0   \n",
       "\n",
       "  Gender  JobLevel                    JobRole JobSatisfaction MaritalStatus  \\\n",
       "0   Male         2  Healthcare_Representative       Very_High       Married   \n",
       "1   Male         2  Healthcare_Representative       Very_High       Married   \n",
       "2   Male         2  Healthcare_Representative       Very_High       Married   \n",
       "3   Male         1      Laboratory_Technician            High       Married   \n",
       "4   Male         1      Laboratory_Technician            High       Married   \n",
       "\n",
       "   ...  NumCompaniesWorked  OverTime PerformanceRating TotalWorkingYears  \\\n",
       "0  ...                 0.0        No       Outstanding                10   \n",
       "1  ...                 0.0        No       Outstanding                10   \n",
       "2  ...                 0.0        No       Outstanding                10   \n",
       "3  ...                 1.0        No         Excellent                 2   \n",
       "4  ...                 1.0        No         Excellent                 2   \n",
       "\n",
       "   TrainingTimesLastYear  YearsAtCompany  YearsInCurrentRole     RateType  \\\n",
       "0                      2               9                   0    DailyRate   \n",
       "1                      2               9                   0   HourlyRate   \n",
       "2                      2               9                   0  MonthlyRate   \n",
       "3                      5               2                   2    DailyRate   \n",
       "4                      5               2                   2   HourlyRate   \n",
       "\n",
       "    Rate    Education_Field  \n",
       "0   1463  Bachelor//Medical  \n",
       "1     64  Bachelor//Medical  \n",
       "2  14408  Bachelor//Medical  \n",
       "3    874  Bachelor//Medical  \n",
       "4     72  Bachelor//Medical  \n",
       "\n",
       "[5 rows x 21 columns]"
      ]
     },
     "execution_count": 5,
     "metadata": {},
     "output_type": "execute_result"
    }
   ],
   "source": [
    "empleados = pd.read_csv(\"data/empleados.csv\")\n",
    "empleados.head()"
   ]
  },
  {
   "cell_type": "markdown",
   "id": "e2a0ba5b",
   "metadata": {},
   "source": [
    "## Apartado 1\n",
    "\n",
    "- **C1: ¿Cuántas observaciones hay en la tabla? ¿Cuántas variables? ¿Hay datos ausentes? Si la respuesta a la última pregunta es afirmativa, localiza esos datos ausentes indicando en qué filas y columnas se encuentran. Después, antes de seguir adelante, elimina de la tabla las filas que contienen esos datos.**\n"
   ]
  },
  {
   "cell_type": "markdown",
   "id": "07851592",
   "metadata": {},
   "source": [
    "- La tabla tiene estas dimensiones (n. de filas, n. de variables):\n"
   ]
  },
  {
   "cell_type": "code",
   "execution_count": 6,
   "id": "184e69a8",
   "metadata": {},
   "outputs": [
    {
     "data": {
      "text/plain": [
       "(3528, 21)"
      ]
     },
     "execution_count": 6,
     "metadata": {},
     "output_type": "execute_result"
    }
   ],
   "source": [
    "empleados.shape"
   ]
  },
  {
   "cell_type": "markdown",
   "id": "8083a972",
   "metadata": {},
   "source": [
    "- Y las columnas son:\n"
   ]
  },
  {
   "cell_type": "code",
   "execution_count": 7,
   "id": "02e3d324",
   "metadata": {},
   "outputs": [
    {
     "data": {
      "text/plain": [
       "Index(['Age', 'Attrition', 'BusinessTravel', 'Department', 'DistanceFromHome',\n",
       "       'Gender', 'JobLevel', 'JobRole', 'JobSatisfaction', 'MaritalStatus',\n",
       "       'MonthlyIncome', 'NumCompaniesWorked', 'OverTime', 'PerformanceRating',\n",
       "       'TotalWorkingYears', 'TrainingTimesLastYear', 'YearsAtCompany',\n",
       "       'YearsInCurrentRole', 'RateType', 'Rate', 'Education_Field'],\n",
       "      dtype='object')"
      ]
     },
     "execution_count": 7,
     "metadata": {},
     "output_type": "execute_result"
    }
   ],
   "source": [
    "empleados.columns"
   ]
  },
  {
   "cell_type": "markdown",
   "id": "7adbb79b",
   "metadata": {},
   "source": [
    "- Para localizar los datos ausentes hacemos:\n"
   ]
  },
  {
   "cell_type": "code",
   "execution_count": 8,
   "id": "b35203c6",
   "metadata": {},
   "outputs": [
    {
     "data": {
      "text/plain": [
       "Age                      0\n",
       "Attrition                0\n",
       "BusinessTravel           0\n",
       "Department               0\n",
       "DistanceFromHome         9\n",
       "Gender                   0\n",
       "JobLevel                 0\n",
       "JobRole                  0\n",
       "JobSatisfaction          0\n",
       "MaritalStatus            0\n",
       "MonthlyIncome            0\n",
       "NumCompaniesWorked       6\n",
       "OverTime                 0\n",
       "PerformanceRating        0\n",
       "TotalWorkingYears        0\n",
       "TrainingTimesLastYear    0\n",
       "YearsAtCompany           0\n",
       "YearsInCurrentRole       0\n",
       "RateType                 0\n",
       "Rate                     0\n",
       "Education_Field          0\n",
       "dtype: int64"
      ]
     },
     "execution_count": 8,
     "metadata": {},
     "output_type": "execute_result"
    }
   ],
   "source": [
    "empleados_na = empleados.isna()\n",
    "empleados_na.sum()\n"
   ]
  },
  {
   "cell_type": "markdown",
   "id": "93e3b2c8",
   "metadata": {},
   "source": [
    "- Concluimos que hay datos ausentes en las variables `DistanceFromHome` y `NumCompaniesWorked`. Para localizar en qué filas de la tabla están hacemos:\n"
   ]
  },
  {
   "cell_type": "code",
   "execution_count": 9,
   "id": "f6c8b02e",
   "metadata": {},
   "outputs": [
    {
     "data": {
      "text/plain": [
       "Index([30, 31, 32, 897, 898, 899, 1593, 1594, 1595], dtype='int64')"
      ]
     },
     "execution_count": 9,
     "metadata": {},
     "output_type": "execute_result"
    }
   ],
   "source": [
    "empleados.loc[empleados.DistanceFromHome.isna(), :].index"
   ]
  },
  {
   "cell_type": "code",
   "execution_count": 10,
   "id": "e821ce1c",
   "metadata": {},
   "outputs": [
    {
     "data": {
      "text/plain": [
       "Index([147, 148, 149, 1092, 1093, 1094], dtype='int64')"
      ]
     },
     "execution_count": 10,
     "metadata": {},
     "output_type": "execute_result"
    }
   ],
   "source": [
    "empleados.loc[empleados.NumCompaniesWorked.isna(), :].index"
   ]
  },
  {
   "cell_type": "markdown",
   "id": "a406ba32",
   "metadata": {},
   "source": [
    "- Y ahora los eliminamos:\n"
   ]
  },
  {
   "cell_type": "code",
   "execution_count": 11,
   "id": "f18e2a98",
   "metadata": {},
   "outputs": [],
   "source": [
    "empleados.dropna(inplace=True)"
   ]
  },
  {
   "cell_type": "markdown",
   "id": "1955a5fd",
   "metadata": {},
   "source": [
    "- Comprobación:\n"
   ]
  },
  {
   "cell_type": "code",
   "execution_count": 12,
   "id": "a13a2c91",
   "metadata": {},
   "outputs": [
    {
     "data": {
      "text/plain": [
       "False"
      ]
     },
     "execution_count": 12,
     "metadata": {},
     "output_type": "execute_result"
    }
   ],
   "source": [
    "np.any(empleados.isna())"
   ]
  },
  {
   "cell_type": "markdown",
   "id": "6bcd8b81",
   "metadata": {},
   "source": [
    "- **C2:\n",
    "  Vamos a fijarnos en las tres últimas columnas de la tabla, que son:**\n",
    "  `   RateType,     Rate,     Education_Field\n",
    "`\n",
    "\n",
    "**En particular verás que las columnas `Rate` y `RateType` incumplen una de las condiciones que definen a los conjuntos de datos limpios (_tidy_), porque la columna `Rate` mezcla los valores de más de una variable. La variable correspondiente se indica en la columna `Rate_type`. Por otro lado, `Education_Field` incumple otra de esas condiciones, porque cada fila de esa tabla combina los valores de dos variable. En este apartado debes limpiar el conjunto de datos utilizando las herramientas del `tidyverse`. Visualiza el resultado usando `select` para que la salida del código muestre exclusivamente las variables que se han modificado en este apartado (¡cuidado, no modifiques los datos al hacer esto!**\n",
    "\n",
    "**NOTA IMPORTANTE (2022):** este apartado estaba diseñado para usar funciones de la librería `tidyR` de R, que se había practicado en clase. Este curso no hemos visto un análogo en Python y por tanto un apartado como este no aparecería en nuestro examen para este año. Pero por si fuera de interés, incluimos aquí una solución para el apartado usando herramientas de Python. Si no quieres entretetenerte, mira como queda la tabla al final de este apartado y pasa a la siguiente pregunta\n"
   ]
  },
  {
   "cell_type": "markdown",
   "id": "bab4527e",
   "metadata": {},
   "source": [
    "- La parte que se refiere a separar 'Education_Field' en dos variables es relamente sencilla.\n"
   ]
  },
  {
   "cell_type": "code",
   "execution_count": 13,
   "id": "79dbaae7",
   "metadata": {},
   "outputs": [
    {
     "data": {
      "text/html": [
       "<div>\n",
       "<style scoped>\n",
       "    .dataframe tbody tr th:only-of-type {\n",
       "        vertical-align: middle;\n",
       "    }\n",
       "\n",
       "    .dataframe tbody tr th {\n",
       "        vertical-align: top;\n",
       "    }\n",
       "\n",
       "    .dataframe thead th {\n",
       "        text-align: right;\n",
       "    }\n",
       "</style>\n",
       "<table border=\"1\" class=\"dataframe\">\n",
       "  <thead>\n",
       "    <tr style=\"text-align: right;\">\n",
       "      <th></th>\n",
       "      <th>Education_Field</th>\n",
       "      <th>Education</th>\n",
       "      <th>Field</th>\n",
       "    </tr>\n",
       "  </thead>\n",
       "  <tbody>\n",
       "    <tr>\n",
       "      <th>0</th>\n",
       "      <td>Bachelor//Medical</td>\n",
       "      <td>Bachelor</td>\n",
       "      <td>Medical</td>\n",
       "    </tr>\n",
       "    <tr>\n",
       "      <th>1</th>\n",
       "      <td>Bachelor//Medical</td>\n",
       "      <td>Bachelor</td>\n",
       "      <td>Medical</td>\n",
       "    </tr>\n",
       "    <tr>\n",
       "      <th>2</th>\n",
       "      <td>Bachelor//Medical</td>\n",
       "      <td>Bachelor</td>\n",
       "      <td>Medical</td>\n",
       "    </tr>\n",
       "    <tr>\n",
       "      <th>3</th>\n",
       "      <td>Bachelor//Medical</td>\n",
       "      <td>Bachelor</td>\n",
       "      <td>Medical</td>\n",
       "    </tr>\n",
       "    <tr>\n",
       "      <th>4</th>\n",
       "      <td>Bachelor//Medical</td>\n",
       "      <td>Bachelor</td>\n",
       "      <td>Medical</td>\n",
       "    </tr>\n",
       "  </tbody>\n",
       "</table>\n",
       "</div>"
      ],
      "text/plain": [
       "     Education_Field Education    Field\n",
       "0  Bachelor//Medical  Bachelor  Medical\n",
       "1  Bachelor//Medical  Bachelor  Medical\n",
       "2  Bachelor//Medical  Bachelor  Medical\n",
       "3  Bachelor//Medical  Bachelor  Medical\n",
       "4  Bachelor//Medical  Bachelor  Medical"
      ]
     },
     "execution_count": 13,
     "metadata": {},
     "output_type": "execute_result"
    }
   ],
   "source": [
    "empleados[[\"Education\", \"Field\"]] = empleados.Education_Field.str.split(\n",
    "    \"//\", expand=True\n",
    ")\n",
    "empleados[[\"Education_Field\", \"Education\", \"Field\"]].head()\n"
   ]
  },
  {
   "cell_type": "code",
   "execution_count": 14,
   "id": "a6373e02",
   "metadata": {},
   "outputs": [
    {
     "data": {
      "text/plain": [
       "Index(['Age', 'Attrition', 'BusinessTravel', 'Department', 'DistanceFromHome',\n",
       "       'Gender', 'JobLevel', 'JobRole', 'JobSatisfaction', 'MaritalStatus',\n",
       "       'MonthlyIncome', 'NumCompaniesWorked', 'OverTime', 'PerformanceRating',\n",
       "       'TotalWorkingYears', 'TrainingTimesLastYear', 'YearsAtCompany',\n",
       "       'YearsInCurrentRole', 'RateType', 'Rate', 'Education', 'Field'],\n",
       "      dtype='object')"
      ]
     },
     "execution_count": 14,
     "metadata": {},
     "output_type": "execute_result"
    }
   ],
   "source": [
    "empleados = empleados.drop([\"Education_Field\"], axis=1)\n",
    "empleados.columns\n"
   ]
  },
  {
   "cell_type": "markdown",
   "id": "feed50c8",
   "metadata": {},
   "source": [
    "- En cambio la parte en la que debemos pivotar la tabla es más complicada. Obsérvese que la tabla está formada por grupos de tres filas consecutivas que se refieren siempre al mismo empleado. Por ejemplo las 15 primeras filas se refieren en realidad a 5 empleados. La única diferencia se encuentra en las columnas `RateType` y `Rate`. Veremos una selección de columnas para comprobar esto:\n"
   ]
  },
  {
   "cell_type": "code",
   "execution_count": 15,
   "id": "0b963604",
   "metadata": {},
   "outputs": [
    {
     "data": {
      "text/html": [
       "<div>\n",
       "<style scoped>\n",
       "    .dataframe tbody tr th:only-of-type {\n",
       "        vertical-align: middle;\n",
       "    }\n",
       "\n",
       "    .dataframe tbody tr th {\n",
       "        vertical-align: top;\n",
       "    }\n",
       "\n",
       "    .dataframe thead th {\n",
       "        text-align: right;\n",
       "    }\n",
       "</style>\n",
       "<table border=\"1\" class=\"dataframe\">\n",
       "  <thead>\n",
       "    <tr style=\"text-align: right;\">\n",
       "      <th></th>\n",
       "      <th>Age</th>\n",
       "      <th>Attrition</th>\n",
       "      <th>BusinessTravel</th>\n",
       "      <th>Department</th>\n",
       "      <th>DistanceFromHome</th>\n",
       "      <th>RateType</th>\n",
       "      <th>Rate</th>\n",
       "    </tr>\n",
       "  </thead>\n",
       "  <tbody>\n",
       "    <tr>\n",
       "      <th>0</th>\n",
       "      <td>31</td>\n",
       "      <td>No</td>\n",
       "      <td>Travel_Rarely</td>\n",
       "      <td>Research_Development</td>\n",
       "      <td>23.0</td>\n",
       "      <td>DailyRate</td>\n",
       "      <td>1463</td>\n",
       "    </tr>\n",
       "    <tr>\n",
       "      <th>1</th>\n",
       "      <td>31</td>\n",
       "      <td>No</td>\n",
       "      <td>Travel_Rarely</td>\n",
       "      <td>Research_Development</td>\n",
       "      <td>23.0</td>\n",
       "      <td>HourlyRate</td>\n",
       "      <td>64</td>\n",
       "    </tr>\n",
       "    <tr>\n",
       "      <th>2</th>\n",
       "      <td>31</td>\n",
       "      <td>No</td>\n",
       "      <td>Travel_Rarely</td>\n",
       "      <td>Research_Development</td>\n",
       "      <td>23.0</td>\n",
       "      <td>MonthlyRate</td>\n",
       "      <td>14408</td>\n",
       "    </tr>\n",
       "    <tr>\n",
       "      <th>3</th>\n",
       "      <td>31</td>\n",
       "      <td>Yes</td>\n",
       "      <td>Travel_Frequently</td>\n",
       "      <td>Research_Development</td>\n",
       "      <td>15.0</td>\n",
       "      <td>DailyRate</td>\n",
       "      <td>874</td>\n",
       "    </tr>\n",
       "    <tr>\n",
       "      <th>4</th>\n",
       "      <td>31</td>\n",
       "      <td>Yes</td>\n",
       "      <td>Travel_Frequently</td>\n",
       "      <td>Research_Development</td>\n",
       "      <td>15.0</td>\n",
       "      <td>HourlyRate</td>\n",
       "      <td>72</td>\n",
       "    </tr>\n",
       "    <tr>\n",
       "      <th>5</th>\n",
       "      <td>31</td>\n",
       "      <td>Yes</td>\n",
       "      <td>Travel_Frequently</td>\n",
       "      <td>Research_Development</td>\n",
       "      <td>15.0</td>\n",
       "      <td>MonthlyRate</td>\n",
       "      <td>6233</td>\n",
       "    </tr>\n",
       "    <tr>\n",
       "      <th>6</th>\n",
       "      <td>30</td>\n",
       "      <td>No</td>\n",
       "      <td>Non-Travel</td>\n",
       "      <td>Research_Development</td>\n",
       "      <td>2.0</td>\n",
       "      <td>DailyRate</td>\n",
       "      <td>1116</td>\n",
       "    </tr>\n",
       "    <tr>\n",
       "      <th>7</th>\n",
       "      <td>30</td>\n",
       "      <td>No</td>\n",
       "      <td>Non-Travel</td>\n",
       "      <td>Research_Development</td>\n",
       "      <td>2.0</td>\n",
       "      <td>HourlyRate</td>\n",
       "      <td>49</td>\n",
       "    </tr>\n",
       "    <tr>\n",
       "      <th>8</th>\n",
       "      <td>30</td>\n",
       "      <td>No</td>\n",
       "      <td>Non-Travel</td>\n",
       "      <td>Research_Development</td>\n",
       "      <td>2.0</td>\n",
       "      <td>MonthlyRate</td>\n",
       "      <td>7181</td>\n",
       "    </tr>\n",
       "    <tr>\n",
       "      <th>9</th>\n",
       "      <td>28</td>\n",
       "      <td>Yes</td>\n",
       "      <td>Non-Travel</td>\n",
       "      <td>Research_Development</td>\n",
       "      <td>24.0</td>\n",
       "      <td>DailyRate</td>\n",
       "      <td>1366</td>\n",
       "    </tr>\n",
       "    <tr>\n",
       "      <th>10</th>\n",
       "      <td>28</td>\n",
       "      <td>Yes</td>\n",
       "      <td>Non-Travel</td>\n",
       "      <td>Research_Development</td>\n",
       "      <td>24.0</td>\n",
       "      <td>HourlyRate</td>\n",
       "      <td>72</td>\n",
       "    </tr>\n",
       "    <tr>\n",
       "      <th>11</th>\n",
       "      <td>28</td>\n",
       "      <td>Yes</td>\n",
       "      <td>Non-Travel</td>\n",
       "      <td>Research_Development</td>\n",
       "      <td>24.0</td>\n",
       "      <td>MonthlyRate</td>\n",
       "      <td>12355</td>\n",
       "    </tr>\n",
       "    <tr>\n",
       "      <th>12</th>\n",
       "      <td>32</td>\n",
       "      <td>No</td>\n",
       "      <td>Travel_Rarely</td>\n",
       "      <td>Sales</td>\n",
       "      <td>8.0</td>\n",
       "      <td>DailyRate</td>\n",
       "      <td>604</td>\n",
       "    </tr>\n",
       "    <tr>\n",
       "      <th>13</th>\n",
       "      <td>32</td>\n",
       "      <td>No</td>\n",
       "      <td>Travel_Rarely</td>\n",
       "      <td>Sales</td>\n",
       "      <td>8.0</td>\n",
       "      <td>HourlyRate</td>\n",
       "      <td>56</td>\n",
       "    </tr>\n",
       "    <tr>\n",
       "      <th>14</th>\n",
       "      <td>32</td>\n",
       "      <td>No</td>\n",
       "      <td>Travel_Rarely</td>\n",
       "      <td>Sales</td>\n",
       "      <td>8.0</td>\n",
       "      <td>MonthlyRate</td>\n",
       "      <td>11693</td>\n",
       "    </tr>\n",
       "  </tbody>\n",
       "</table>\n",
       "</div>"
      ],
      "text/plain": [
       "    Age Attrition     BusinessTravel            Department  DistanceFromHome  \\\n",
       "0    31        No      Travel_Rarely  Research_Development              23.0   \n",
       "1    31        No      Travel_Rarely  Research_Development              23.0   \n",
       "2    31        No      Travel_Rarely  Research_Development              23.0   \n",
       "3    31       Yes  Travel_Frequently  Research_Development              15.0   \n",
       "4    31       Yes  Travel_Frequently  Research_Development              15.0   \n",
       "5    31       Yes  Travel_Frequently  Research_Development              15.0   \n",
       "6    30        No         Non-Travel  Research_Development               2.0   \n",
       "7    30        No         Non-Travel  Research_Development               2.0   \n",
       "8    30        No         Non-Travel  Research_Development               2.0   \n",
       "9    28       Yes         Non-Travel  Research_Development              24.0   \n",
       "10   28       Yes         Non-Travel  Research_Development              24.0   \n",
       "11   28       Yes         Non-Travel  Research_Development              24.0   \n",
       "12   32        No      Travel_Rarely                 Sales               8.0   \n",
       "13   32        No      Travel_Rarely                 Sales               8.0   \n",
       "14   32        No      Travel_Rarely                 Sales               8.0   \n",
       "\n",
       "       RateType   Rate  \n",
       "0     DailyRate   1463  \n",
       "1    HourlyRate     64  \n",
       "2   MonthlyRate  14408  \n",
       "3     DailyRate    874  \n",
       "4    HourlyRate     72  \n",
       "5   MonthlyRate   6233  \n",
       "6     DailyRate   1116  \n",
       "7    HourlyRate     49  \n",
       "8   MonthlyRate   7181  \n",
       "9     DailyRate   1366  \n",
       "10   HourlyRate     72  \n",
       "11  MonthlyRate  12355  \n",
       "12    DailyRate    604  \n",
       "13   HourlyRate     56  \n",
       "14  MonthlyRate  11693  "
      ]
     },
     "execution_count": 15,
     "metadata": {},
     "output_type": "execute_result"
    }
   ],
   "source": [
    "empleados.iloc[:, [0, 1, 2, 3, 4, 18, 19]].head(15)\n"
   ]
  },
  {
   "cell_type": "markdown",
   "id": "d3d0a00e",
   "metadata": {},
   "source": [
    "- El número real de empleados es:\n"
   ]
  },
  {
   "cell_type": "code",
   "execution_count": 16,
   "id": "3b7d65d4",
   "metadata": {},
   "outputs": [
    {
     "data": {
      "text/plain": [
       "1171"
      ]
     },
     "execution_count": 16,
     "metadata": {},
     "output_type": "execute_result"
    }
   ],
   "source": [
    "len(empleados) // 3"
   ]
  },
  {
   "cell_type": "markdown",
   "id": "b9a2d769",
   "metadata": {},
   "source": [
    "- Vamos a añadir una columna con un identificador de empleado para facilitar el trabajo:\n"
   ]
  },
  {
   "cell_type": "code",
   "execution_count": 17,
   "id": "f8f81186",
   "metadata": {},
   "outputs": [],
   "source": [
    "empleados[\"Id\"] = np.repeat(np.arange(len(empleados) // 3), 3)\n"
   ]
  },
  {
   "cell_type": "markdown",
   "id": "327896f0",
   "metadata": {},
   "source": [
    "- Las columnas que se repiten para cada empleado son:\n"
   ]
  },
  {
   "cell_type": "code",
   "execution_count": 18,
   "id": "21fa914b",
   "metadata": {},
   "outputs": [
    {
     "data": {
      "text/plain": [
       "['Age',\n",
       " 'Attrition',\n",
       " 'BusinessTravel',\n",
       " 'Department',\n",
       " 'DistanceFromHome',\n",
       " 'Gender',\n",
       " 'JobLevel',\n",
       " 'JobRole',\n",
       " 'JobSatisfaction',\n",
       " 'MaritalStatus',\n",
       " 'MonthlyIncome',\n",
       " 'NumCompaniesWorked',\n",
       " 'OverTime',\n",
       " 'PerformanceRating',\n",
       " 'TotalWorkingYears',\n",
       " 'TrainingTimesLastYear',\n",
       " 'YearsAtCompany',\n",
       " 'YearsInCurrentRole',\n",
       " 'Education',\n",
       " 'Field',\n",
       " 'Id']"
      ]
     },
     "execution_count": 18,
     "metadata": {},
     "output_type": "execute_result"
    }
   ],
   "source": [
    "ind_columns = list(filter(lambda x: not (\"Type\" in x), empleados.columns))\n",
    "ind_columns = list(filter(lambda x: not (\"Rate\" in x), ind_columns))\n",
    "ind_columns\n"
   ]
  },
  {
   "cell_type": "code",
   "execution_count": 19,
   "id": "59544129",
   "metadata": {},
   "outputs": [
    {
     "data": {
      "text/html": [
       "<div>\n",
       "<style scoped>\n",
       "    .dataframe tbody tr th:only-of-type {\n",
       "        vertical-align: middle;\n",
       "    }\n",
       "\n",
       "    .dataframe tbody tr th {\n",
       "        vertical-align: top;\n",
       "    }\n",
       "\n",
       "    .dataframe thead th {\n",
       "        text-align: right;\n",
       "    }\n",
       "</style>\n",
       "<table border=\"1\" class=\"dataframe\">\n",
       "  <thead>\n",
       "    <tr style=\"text-align: right;\">\n",
       "      <th></th>\n",
       "      <th>Id</th>\n",
       "      <th>RateType</th>\n",
       "      <th>Rate</th>\n",
       "    </tr>\n",
       "  </thead>\n",
       "  <tbody>\n",
       "    <tr>\n",
       "      <th>0</th>\n",
       "      <td>0</td>\n",
       "      <td>DailyRate</td>\n",
       "      <td>1463</td>\n",
       "    </tr>\n",
       "    <tr>\n",
       "      <th>1</th>\n",
       "      <td>0</td>\n",
       "      <td>HourlyRate</td>\n",
       "      <td>64</td>\n",
       "    </tr>\n",
       "    <tr>\n",
       "      <th>2</th>\n",
       "      <td>0</td>\n",
       "      <td>MonthlyRate</td>\n",
       "      <td>14408</td>\n",
       "    </tr>\n",
       "    <tr>\n",
       "      <th>3</th>\n",
       "      <td>1</td>\n",
       "      <td>DailyRate</td>\n",
       "      <td>874</td>\n",
       "    </tr>\n",
       "    <tr>\n",
       "      <th>4</th>\n",
       "      <td>1</td>\n",
       "      <td>HourlyRate</td>\n",
       "      <td>72</td>\n",
       "    </tr>\n",
       "    <tr>\n",
       "      <th>5</th>\n",
       "      <td>1</td>\n",
       "      <td>MonthlyRate</td>\n",
       "      <td>6233</td>\n",
       "    </tr>\n",
       "    <tr>\n",
       "      <th>6</th>\n",
       "      <td>2</td>\n",
       "      <td>DailyRate</td>\n",
       "      <td>1116</td>\n",
       "    </tr>\n",
       "    <tr>\n",
       "      <th>7</th>\n",
       "      <td>2</td>\n",
       "      <td>HourlyRate</td>\n",
       "      <td>49</td>\n",
       "    </tr>\n",
       "    <tr>\n",
       "      <th>8</th>\n",
       "      <td>2</td>\n",
       "      <td>MonthlyRate</td>\n",
       "      <td>7181</td>\n",
       "    </tr>\n",
       "    <tr>\n",
       "      <th>9</th>\n",
       "      <td>3</td>\n",
       "      <td>DailyRate</td>\n",
       "      <td>1366</td>\n",
       "    </tr>\n",
       "    <tr>\n",
       "      <th>10</th>\n",
       "      <td>3</td>\n",
       "      <td>HourlyRate</td>\n",
       "      <td>72</td>\n",
       "    </tr>\n",
       "    <tr>\n",
       "      <th>11</th>\n",
       "      <td>3</td>\n",
       "      <td>MonthlyRate</td>\n",
       "      <td>12355</td>\n",
       "    </tr>\n",
       "    <tr>\n",
       "      <th>12</th>\n",
       "      <td>4</td>\n",
       "      <td>DailyRate</td>\n",
       "      <td>604</td>\n",
       "    </tr>\n",
       "    <tr>\n",
       "      <th>13</th>\n",
       "      <td>4</td>\n",
       "      <td>HourlyRate</td>\n",
       "      <td>56</td>\n",
       "    </tr>\n",
       "    <tr>\n",
       "      <th>14</th>\n",
       "      <td>4</td>\n",
       "      <td>MonthlyRate</td>\n",
       "      <td>11693</td>\n",
       "    </tr>\n",
       "  </tbody>\n",
       "</table>\n",
       "</div>"
      ],
      "text/plain": [
       "    Id     RateType   Rate\n",
       "0    0    DailyRate   1463\n",
       "1    0   HourlyRate     64\n",
       "2    0  MonthlyRate  14408\n",
       "3    1    DailyRate    874\n",
       "4    1   HourlyRate     72\n",
       "5    1  MonthlyRate   6233\n",
       "6    2    DailyRate   1116\n",
       "7    2   HourlyRate     49\n",
       "8    2  MonthlyRate   7181\n",
       "9    3    DailyRate   1366\n",
       "10   3   HourlyRate     72\n",
       "11   3  MonthlyRate  12355\n",
       "12   4    DailyRate    604\n",
       "13   4   HourlyRate     56\n",
       "14   4  MonthlyRate  11693"
      ]
     },
     "execution_count": 19,
     "metadata": {},
     "output_type": "execute_result"
    }
   ],
   "source": [
    "empleados[[\"Id\", \"RateType\", \"Rate\"]].head(15)\n"
   ]
  },
  {
   "cell_type": "markdown",
   "id": "677fb737",
   "metadata": {},
   "source": [
    "- Vamos a pivotar la tabla para dividir la columna 'RateType' en tres columnas correspondientes a los niveles de ese factor. Al hacerlo pandas convierte las columnas comunes en el índice (multi-índice) de la nueva tabla. El comando `reset_index` las vuelve a convertir en columnas. Como antes, inspeccionamos una selección de columnas para comprobar el resultado.\n"
   ]
  },
  {
   "cell_type": "code",
   "execution_count": 20,
   "id": "61d8f4e7",
   "metadata": {},
   "outputs": [
    {
     "data": {
      "text/html": [
       "<div>\n",
       "<style scoped>\n",
       "    .dataframe tbody tr th:only-of-type {\n",
       "        vertical-align: middle;\n",
       "    }\n",
       "\n",
       "    .dataframe tbody tr th {\n",
       "        vertical-align: top;\n",
       "    }\n",
       "\n",
       "    .dataframe thead th {\n",
       "        text-align: right;\n",
       "    }\n",
       "</style>\n",
       "<table border=\"1\" class=\"dataframe\">\n",
       "  <thead>\n",
       "    <tr style=\"text-align: right;\">\n",
       "      <th>indx</th>\n",
       "      <th>Age</th>\n",
       "      <th>Attrition</th>\n",
       "      <th>BusinessTravel</th>\n",
       "      <th>Department</th>\n",
       "      <th>DistanceFromHome</th>\n",
       "      <th>Education</th>\n",
       "      <th>Id</th>\n",
       "      <th>DailyRate</th>\n",
       "      <th>HourlyRate</th>\n",
       "    </tr>\n",
       "  </thead>\n",
       "  <tbody>\n",
       "    <tr>\n",
       "      <th>339</th>\n",
       "      <td>31</td>\n",
       "      <td>No</td>\n",
       "      <td>Travel_Rarely</td>\n",
       "      <td>Research_Development</td>\n",
       "      <td>23.0</td>\n",
       "      <td>Bachelor</td>\n",
       "      <td>0</td>\n",
       "      <td>1463</td>\n",
       "      <td>64</td>\n",
       "    </tr>\n",
       "    <tr>\n",
       "      <th>353</th>\n",
       "      <td>31</td>\n",
       "      <td>Yes</td>\n",
       "      <td>Travel_Frequently</td>\n",
       "      <td>Research_Development</td>\n",
       "      <td>15.0</td>\n",
       "      <td>Bachelor</td>\n",
       "      <td>1</td>\n",
       "      <td>874</td>\n",
       "      <td>72</td>\n",
       "    </tr>\n",
       "    <tr>\n",
       "      <th>258</th>\n",
       "      <td>30</td>\n",
       "      <td>No</td>\n",
       "      <td>Non-Travel</td>\n",
       "      <td>Research_Development</td>\n",
       "      <td>2.0</td>\n",
       "      <td>Bachelor</td>\n",
       "      <td>2</td>\n",
       "      <td>1116</td>\n",
       "      <td>49</td>\n",
       "    </tr>\n",
       "    <tr>\n",
       "      <th>188</th>\n",
       "      <td>28</td>\n",
       "      <td>Yes</td>\n",
       "      <td>Non-Travel</td>\n",
       "      <td>Research_Development</td>\n",
       "      <td>24.0</td>\n",
       "      <td>College</td>\n",
       "      <td>3</td>\n",
       "      <td>1366</td>\n",
       "      <td>72</td>\n",
       "    </tr>\n",
       "    <tr>\n",
       "      <th>394</th>\n",
       "      <td>32</td>\n",
       "      <td>No</td>\n",
       "      <td>Travel_Rarely</td>\n",
       "      <td>Sales</td>\n",
       "      <td>8.0</td>\n",
       "      <td>Bachelor</td>\n",
       "      <td>4</td>\n",
       "      <td>604</td>\n",
       "      <td>56</td>\n",
       "    </tr>\n",
       "    <tr>\n",
       "      <th>1039</th>\n",
       "      <td>50</td>\n",
       "      <td>No</td>\n",
       "      <td>Travel_Rarely</td>\n",
       "      <td>Research_Development</td>\n",
       "      <td>7.0</td>\n",
       "      <td>College</td>\n",
       "      <td>5</td>\n",
       "      <td>989</td>\n",
       "      <td>43</td>\n",
       "    </tr>\n",
       "    <tr>\n",
       "      <th>659</th>\n",
       "      <td>37</td>\n",
       "      <td>No</td>\n",
       "      <td>Travel_Rarely</td>\n",
       "      <td>Research_Development</td>\n",
       "      <td>10.0</td>\n",
       "      <td>Master</td>\n",
       "      <td>6</td>\n",
       "      <td>1305</td>\n",
       "      <td>49</td>\n",
       "    </tr>\n",
       "    <tr>\n",
       "      <th>832</th>\n",
       "      <td>41</td>\n",
       "      <td>No</td>\n",
       "      <td>Travel_Rarely</td>\n",
       "      <td>Sales</td>\n",
       "      <td>23.0</td>\n",
       "      <td>College</td>\n",
       "      <td>7</td>\n",
       "      <td>1206</td>\n",
       "      <td>80</td>\n",
       "    </tr>\n",
       "    <tr>\n",
       "      <th>435</th>\n",
       "      <td>33</td>\n",
       "      <td>No</td>\n",
       "      <td>Travel_Rarely</td>\n",
       "      <td>Research_Development</td>\n",
       "      <td>13.0</td>\n",
       "      <td>Below_College</td>\n",
       "      <td>8</td>\n",
       "      <td>461</td>\n",
       "      <td>53</td>\n",
       "    </tr>\n",
       "    <tr>\n",
       "      <th>517</th>\n",
       "      <td>34</td>\n",
       "      <td>Yes</td>\n",
       "      <td>Non-Travel</td>\n",
       "      <td>Sales</td>\n",
       "      <td>19.0</td>\n",
       "      <td>Bachelor</td>\n",
       "      <td>9</td>\n",
       "      <td>1362</td>\n",
       "      <td>67</td>\n",
       "    </tr>\n",
       "    <tr>\n",
       "      <th>797</th>\n",
       "      <td>40</td>\n",
       "      <td>No</td>\n",
       "      <td>Travel_Rarely</td>\n",
       "      <td>Sales</td>\n",
       "      <td>14.0</td>\n",
       "      <td>College</td>\n",
       "      <td>10</td>\n",
       "      <td>118</td>\n",
       "      <td>84</td>\n",
       "    </tr>\n",
       "    <tr>\n",
       "      <th>853</th>\n",
       "      <td>42</td>\n",
       "      <td>No</td>\n",
       "      <td>Travel_Rarely</td>\n",
       "      <td>Research_Development</td>\n",
       "      <td>2.0</td>\n",
       "      <td>Master</td>\n",
       "      <td>11</td>\n",
       "      <td>622</td>\n",
       "      <td>81</td>\n",
       "    </tr>\n",
       "    <tr>\n",
       "      <th>913</th>\n",
       "      <td>44</td>\n",
       "      <td>No</td>\n",
       "      <td>Travel_Rarely</td>\n",
       "      <td>Research_Development</td>\n",
       "      <td>9.0</td>\n",
       "      <td>College</td>\n",
       "      <td>12</td>\n",
       "      <td>661</td>\n",
       "      <td>61</td>\n",
       "    </tr>\n",
       "    <tr>\n",
       "      <th>822</th>\n",
       "      <td>41</td>\n",
       "      <td>No</td>\n",
       "      <td>Travel_Rarely</td>\n",
       "      <td>Research_Development</td>\n",
       "      <td>19.0</td>\n",
       "      <td>College</td>\n",
       "      <td>13</td>\n",
       "      <td>1411</td>\n",
       "      <td>36</td>\n",
       "    </tr>\n",
       "    <tr>\n",
       "      <th>570</th>\n",
       "      <td>35</td>\n",
       "      <td>No</td>\n",
       "      <td>Travel_Rarely</td>\n",
       "      <td>Sales</td>\n",
       "      <td>3.0</td>\n",
       "      <td>Master</td>\n",
       "      <td>14</td>\n",
       "      <td>882</td>\n",
       "      <td>92</td>\n",
       "    </tr>\n",
       "  </tbody>\n",
       "</table>\n",
       "</div>"
      ],
      "text/plain": [
       "indx  Age Attrition     BusinessTravel            Department  \\\n",
       "339    31        No      Travel_Rarely  Research_Development   \n",
       "353    31       Yes  Travel_Frequently  Research_Development   \n",
       "258    30        No         Non-Travel  Research_Development   \n",
       "188    28       Yes         Non-Travel  Research_Development   \n",
       "394    32        No      Travel_Rarely                 Sales   \n",
       "1039   50        No      Travel_Rarely  Research_Development   \n",
       "659    37        No      Travel_Rarely  Research_Development   \n",
       "832    41        No      Travel_Rarely                 Sales   \n",
       "435    33        No      Travel_Rarely  Research_Development   \n",
       "517    34       Yes         Non-Travel                 Sales   \n",
       "797    40        No      Travel_Rarely                 Sales   \n",
       "853    42        No      Travel_Rarely  Research_Development   \n",
       "913    44        No      Travel_Rarely  Research_Development   \n",
       "822    41        No      Travel_Rarely  Research_Development   \n",
       "570    35        No      Travel_Rarely                 Sales   \n",
       "\n",
       "indx  DistanceFromHome      Education  Id  DailyRate  HourlyRate  \n",
       "339               23.0       Bachelor   0       1463          64  \n",
       "353               15.0       Bachelor   1        874          72  \n",
       "258                2.0       Bachelor   2       1116          49  \n",
       "188               24.0        College   3       1366          72  \n",
       "394                8.0       Bachelor   4        604          56  \n",
       "1039               7.0        College   5        989          43  \n",
       "659               10.0         Master   6       1305          49  \n",
       "832               23.0        College   7       1206          80  \n",
       "435               13.0  Below_College   8        461          53  \n",
       "517               19.0       Bachelor   9       1362          67  \n",
       "797               14.0        College  10        118          84  \n",
       "853                2.0         Master  11        622          81  \n",
       "913                9.0        College  12        661          61  \n",
       "822               19.0        College  13       1411          36  \n",
       "570                3.0         Master  14        882          92  "
      ]
     },
     "execution_count": 20,
     "metadata": {},
     "output_type": "execute_result"
    }
   ],
   "source": [
    "empleados_wider = (\n",
    "    empleados.pivot(index=ind_columns, columns=\"RateType\", values=\"Rate\")\n",
    "    .reset_index()\n",
    "    .sort_values(\"Id\")\n",
    ")\n",
    "empleados_wider.rename_axis(columns=\"indx\", inplace=True)\n",
    "empleados_wider.iloc[:, [0, 1, 2, 3, 4, 18, 20, 21, 22]].head(15)\n"
   ]
  },
  {
   "cell_type": "markdown",
   "id": "41845314",
   "metadata": {},
   "source": [
    "- Hacemos un nuevo `reset_index` para eliminar los valores ahora superfluos del índice y también eliminamos la variable 'Id' porque sus valores son los de ese segundo nuevo índice.\n"
   ]
  },
  {
   "cell_type": "code",
   "execution_count": 21,
   "id": "34dfcf3e",
   "metadata": {
    "scrolled": true
   },
   "outputs": [
    {
     "data": {
      "text/html": [
       "<div>\n",
       "<style scoped>\n",
       "    .dataframe tbody tr th:only-of-type {\n",
       "        vertical-align: middle;\n",
       "    }\n",
       "\n",
       "    .dataframe tbody tr th {\n",
       "        vertical-align: top;\n",
       "    }\n",
       "\n",
       "    .dataframe thead th {\n",
       "        text-align: right;\n",
       "    }\n",
       "</style>\n",
       "<table border=\"1\" class=\"dataframe\">\n",
       "  <thead>\n",
       "    <tr style=\"text-align: right;\">\n",
       "      <th>indx</th>\n",
       "      <th>Age</th>\n",
       "      <th>Attrition</th>\n",
       "      <th>BusinessTravel</th>\n",
       "      <th>Department</th>\n",
       "      <th>DistanceFromHome</th>\n",
       "      <th>Education</th>\n",
       "      <th>DailyRate</th>\n",
       "      <th>HourlyRate</th>\n",
       "      <th>MonthlyRate</th>\n",
       "    </tr>\n",
       "  </thead>\n",
       "  <tbody>\n",
       "    <tr>\n",
       "      <th>0</th>\n",
       "      <td>31</td>\n",
       "      <td>No</td>\n",
       "      <td>Travel_Rarely</td>\n",
       "      <td>Research_Development</td>\n",
       "      <td>23.0</td>\n",
       "      <td>Bachelor</td>\n",
       "      <td>1463</td>\n",
       "      <td>64</td>\n",
       "      <td>14408</td>\n",
       "    </tr>\n",
       "    <tr>\n",
       "      <th>1</th>\n",
       "      <td>31</td>\n",
       "      <td>Yes</td>\n",
       "      <td>Travel_Frequently</td>\n",
       "      <td>Research_Development</td>\n",
       "      <td>15.0</td>\n",
       "      <td>Bachelor</td>\n",
       "      <td>874</td>\n",
       "      <td>72</td>\n",
       "      <td>6233</td>\n",
       "    </tr>\n",
       "    <tr>\n",
       "      <th>2</th>\n",
       "      <td>30</td>\n",
       "      <td>No</td>\n",
       "      <td>Non-Travel</td>\n",
       "      <td>Research_Development</td>\n",
       "      <td>2.0</td>\n",
       "      <td>Bachelor</td>\n",
       "      <td>1116</td>\n",
       "      <td>49</td>\n",
       "      <td>7181</td>\n",
       "    </tr>\n",
       "    <tr>\n",
       "      <th>3</th>\n",
       "      <td>28</td>\n",
       "      <td>Yes</td>\n",
       "      <td>Non-Travel</td>\n",
       "      <td>Research_Development</td>\n",
       "      <td>24.0</td>\n",
       "      <td>College</td>\n",
       "      <td>1366</td>\n",
       "      <td>72</td>\n",
       "      <td>12355</td>\n",
       "    </tr>\n",
       "    <tr>\n",
       "      <th>4</th>\n",
       "      <td>32</td>\n",
       "      <td>No</td>\n",
       "      <td>Travel_Rarely</td>\n",
       "      <td>Sales</td>\n",
       "      <td>8.0</td>\n",
       "      <td>Bachelor</td>\n",
       "      <td>604</td>\n",
       "      <td>56</td>\n",
       "      <td>11693</td>\n",
       "    </tr>\n",
       "    <tr>\n",
       "      <th>5</th>\n",
       "      <td>50</td>\n",
       "      <td>No</td>\n",
       "      <td>Travel_Rarely</td>\n",
       "      <td>Research_Development</td>\n",
       "      <td>7.0</td>\n",
       "      <td>College</td>\n",
       "      <td>989</td>\n",
       "      <td>43</td>\n",
       "      <td>16701</td>\n",
       "    </tr>\n",
       "    <tr>\n",
       "      <th>6</th>\n",
       "      <td>37</td>\n",
       "      <td>No</td>\n",
       "      <td>Travel_Rarely</td>\n",
       "      <td>Research_Development</td>\n",
       "      <td>10.0</td>\n",
       "      <td>Master</td>\n",
       "      <td>1305</td>\n",
       "      <td>49</td>\n",
       "      <td>21123</td>\n",
       "    </tr>\n",
       "    <tr>\n",
       "      <th>7</th>\n",
       "      <td>41</td>\n",
       "      <td>No</td>\n",
       "      <td>Travel_Rarely</td>\n",
       "      <td>Sales</td>\n",
       "      <td>23.0</td>\n",
       "      <td>College</td>\n",
       "      <td>1206</td>\n",
       "      <td>80</td>\n",
       "      <td>11591</td>\n",
       "    </tr>\n",
       "    <tr>\n",
       "      <th>8</th>\n",
       "      <td>33</td>\n",
       "      <td>No</td>\n",
       "      <td>Travel_Rarely</td>\n",
       "      <td>Research_Development</td>\n",
       "      <td>13.0</td>\n",
       "      <td>Below_College</td>\n",
       "      <td>461</td>\n",
       "      <td>53</td>\n",
       "      <td>17241</td>\n",
       "    </tr>\n",
       "    <tr>\n",
       "      <th>9</th>\n",
       "      <td>34</td>\n",
       "      <td>Yes</td>\n",
       "      <td>Non-Travel</td>\n",
       "      <td>Sales</td>\n",
       "      <td>19.0</td>\n",
       "      <td>Bachelor</td>\n",
       "      <td>1362</td>\n",
       "      <td>67</td>\n",
       "      <td>4652</td>\n",
       "    </tr>\n",
       "    <tr>\n",
       "      <th>10</th>\n",
       "      <td>40</td>\n",
       "      <td>No</td>\n",
       "      <td>Travel_Rarely</td>\n",
       "      <td>Sales</td>\n",
       "      <td>14.0</td>\n",
       "      <td>College</td>\n",
       "      <td>118</td>\n",
       "      <td>84</td>\n",
       "      <td>11262</td>\n",
       "    </tr>\n",
       "    <tr>\n",
       "      <th>11</th>\n",
       "      <td>42</td>\n",
       "      <td>No</td>\n",
       "      <td>Travel_Rarely</td>\n",
       "      <td>Research_Development</td>\n",
       "      <td>2.0</td>\n",
       "      <td>Master</td>\n",
       "      <td>622</td>\n",
       "      <td>81</td>\n",
       "      <td>5718</td>\n",
       "    </tr>\n",
       "    <tr>\n",
       "      <th>12</th>\n",
       "      <td>44</td>\n",
       "      <td>No</td>\n",
       "      <td>Travel_Rarely</td>\n",
       "      <td>Research_Development</td>\n",
       "      <td>9.0</td>\n",
       "      <td>College</td>\n",
       "      <td>661</td>\n",
       "      <td>61</td>\n",
       "      <td>7508</td>\n",
       "    </tr>\n",
       "    <tr>\n",
       "      <th>13</th>\n",
       "      <td>41</td>\n",
       "      <td>No</td>\n",
       "      <td>Travel_Rarely</td>\n",
       "      <td>Research_Development</td>\n",
       "      <td>19.0</td>\n",
       "      <td>College</td>\n",
       "      <td>1411</td>\n",
       "      <td>36</td>\n",
       "      <td>19877</td>\n",
       "    </tr>\n",
       "    <tr>\n",
       "      <th>14</th>\n",
       "      <td>35</td>\n",
       "      <td>No</td>\n",
       "      <td>Travel_Rarely</td>\n",
       "      <td>Sales</td>\n",
       "      <td>3.0</td>\n",
       "      <td>Master</td>\n",
       "      <td>882</td>\n",
       "      <td>92</td>\n",
       "      <td>6812</td>\n",
       "    </tr>\n",
       "  </tbody>\n",
       "</table>\n",
       "</div>"
      ],
      "text/plain": [
       "indx  Age Attrition     BusinessTravel            Department  \\\n",
       "0      31        No      Travel_Rarely  Research_Development   \n",
       "1      31       Yes  Travel_Frequently  Research_Development   \n",
       "2      30        No         Non-Travel  Research_Development   \n",
       "3      28       Yes         Non-Travel  Research_Development   \n",
       "4      32        No      Travel_Rarely                 Sales   \n",
       "5      50        No      Travel_Rarely  Research_Development   \n",
       "6      37        No      Travel_Rarely  Research_Development   \n",
       "7      41        No      Travel_Rarely                 Sales   \n",
       "8      33        No      Travel_Rarely  Research_Development   \n",
       "9      34       Yes         Non-Travel                 Sales   \n",
       "10     40        No      Travel_Rarely                 Sales   \n",
       "11     42        No      Travel_Rarely  Research_Development   \n",
       "12     44        No      Travel_Rarely  Research_Development   \n",
       "13     41        No      Travel_Rarely  Research_Development   \n",
       "14     35        No      Travel_Rarely                 Sales   \n",
       "\n",
       "indx  DistanceFromHome      Education  DailyRate  HourlyRate  MonthlyRate  \n",
       "0                 23.0       Bachelor       1463          64        14408  \n",
       "1                 15.0       Bachelor        874          72         6233  \n",
       "2                  2.0       Bachelor       1116          49         7181  \n",
       "3                 24.0        College       1366          72        12355  \n",
       "4                  8.0       Bachelor        604          56        11693  \n",
       "5                  7.0        College        989          43        16701  \n",
       "6                 10.0         Master       1305          49        21123  \n",
       "7                 23.0        College       1206          80        11591  \n",
       "8                 13.0  Below_College        461          53        17241  \n",
       "9                 19.0       Bachelor       1362          67         4652  \n",
       "10                14.0        College        118          84        11262  \n",
       "11                 2.0         Master        622          81         5718  \n",
       "12                 9.0        College        661          61         7508  \n",
       "13                19.0        College       1411          36        19877  \n",
       "14                 3.0         Master        882          92         6812  "
      ]
     },
     "execution_count": 21,
     "metadata": {},
     "output_type": "execute_result"
    }
   ],
   "source": [
    "empleados = empleados_wider.reset_index(drop=True).drop(\"Id\", axis=1)\n",
    "empleados.iloc[:, [0, 1, 2, 3, 4, 18, 20, 21, 22]].head(15)\n"
   ]
  },
  {
   "cell_type": "markdown",
   "id": "a14fcb48",
   "metadata": {},
   "source": [
    "- **C3: Una vez limpios los datos: ¿de qué tipo son las variables del conjunto de datos? Usa la función `mutate_if` de `dplyr` (o alternativamente usa `across`) para asegurarte de que todas las variables de esta tabla que se han leído como `character` se convierten en factores. Mira la ayuda de `mutate_if` para hacer esto si lo necesitas. Después haz una lista de variables cuantitativas y otra de variables cualitativas (factores). ¿Cuáles, dentro de estas últimas, son factores ordenados (no es necesario incluir el orden en el proceso de transformación de estos factores)?**\n"
   ]
  },
  {
   "cell_type": "markdown",
   "id": "0347d3d1",
   "metadata": {},
   "source": [
    "- Los tipos de las variables se pueden averiguar con:\n"
   ]
  },
  {
   "cell_type": "code",
   "execution_count": 22,
   "id": "2def2182",
   "metadata": {},
   "outputs": [
    {
     "data": {
      "text/plain": [
       "indx\n",
       "Age                        int64\n",
       "Attrition                 object\n",
       "BusinessTravel            object\n",
       "Department                object\n",
       "DistanceFromHome         float64\n",
       "Gender                    object\n",
       "JobLevel                   int64\n",
       "JobRole                   object\n",
       "JobSatisfaction           object\n",
       "MaritalStatus             object\n",
       "MonthlyIncome              int64\n",
       "NumCompaniesWorked       float64\n",
       "OverTime                  object\n",
       "PerformanceRating         object\n",
       "TotalWorkingYears          int64\n",
       "TrainingTimesLastYear      int64\n",
       "YearsAtCompany             int64\n",
       "YearsInCurrentRole         int64\n",
       "Education                 object\n",
       "Field                     object\n",
       "DailyRate                  int64\n",
       "HourlyRate                 int64\n",
       "MonthlyRate                int64\n",
       "dtype: object"
      ]
     },
     "execution_count": 22,
     "metadata": {},
     "output_type": "execute_result"
    }
   ],
   "source": [
    "empleados.dtypes"
   ]
  },
  {
   "cell_type": "markdown",
   "id": "c22a7647",
   "metadata": {},
   "source": [
    "- Todas las variables de tipo `object` corresponden en realidad a factores.\n"
   ]
  },
  {
   "cell_type": "code",
   "execution_count": 23,
   "id": "32317b32",
   "metadata": {},
   "outputs": [
    {
     "data": {
      "text/plain": [
       "Index(['Attrition', 'BusinessTravel', 'Department', 'Gender', 'JobRole',\n",
       "       'JobSatisfaction', 'MaritalStatus', 'OverTime', 'PerformanceRating',\n",
       "       'Education', 'Field'],\n",
       "      dtype='object', name='indx')"
      ]
     },
     "execution_count": 23,
     "metadata": {},
     "output_type": "execute_result"
    }
   ],
   "source": [
    "empleados.columns[empleados.dtypes == \"object\"]\n"
   ]
  },
  {
   "cell_type": "markdown",
   "id": "ff2b7844",
   "metadata": {},
   "source": [
    "- El resto son numéricas:\n"
   ]
  },
  {
   "cell_type": "code",
   "execution_count": 24,
   "id": "0e81ad9c",
   "metadata": {},
   "outputs": [
    {
     "data": {
      "text/plain": [
       "Index(['Age', 'DistanceFromHome', 'JobLevel', 'MonthlyIncome',\n",
       "       'NumCompaniesWorked', 'TotalWorkingYears', 'TrainingTimesLastYear',\n",
       "       'YearsAtCompany', 'YearsInCurrentRole', 'DailyRate', 'HourlyRate',\n",
       "       'MonthlyRate'],\n",
       "      dtype='object', name='indx')"
      ]
     },
     "execution_count": 24,
     "metadata": {},
     "output_type": "execute_result"
    }
   ],
   "source": [
    "empleados.columns[empleados.dtypes != \"object\"]\n"
   ]
  },
  {
   "cell_type": "markdown",
   "id": "995e900e",
   "metadata": {},
   "source": [
    "- Convertimos las de tipo `object` a `category`:\n"
   ]
  },
  {
   "cell_type": "code",
   "execution_count": 25,
   "id": "5843606b",
   "metadata": {},
   "outputs": [],
   "source": [
    "empleados_objects = empleados.columns[empleados.dtypes == \"object\"]\n",
    "empleados[empleados_objects] = empleados[empleados_objects].astype(\n",
    "    \"category\",\n",
    ")\n"
   ]
  },
  {
   "cell_type": "markdown",
   "id": "a40b055c",
   "metadata": {},
   "source": [
    "- Dentro de esos factores, los ordenados son `JobSatisfaction`, `PerformanceRating` y `Education`\n"
   ]
  },
  {
   "cell_type": "markdown",
   "id": "2394af6e",
   "metadata": {},
   "source": [
    "## Apartado 2\n",
    "\n",
    "- **C4: Representa gráficamente la distribución de la variable edad `Age` mediante un histograma con la curva de densidad de la variable superpuesta. Recuerda que en este y otros apartados se valorará positivamente el uso de ggplot. Representa también un boxplot de la variable edad. Opcionalmente puedes usar un violinpot o añadir los puntos de la muestra (asegúrate en ese caso de que no impiden ver el boxplot).**\n"
   ]
  },
  {
   "cell_type": "markdown",
   "id": "3c48d46d",
   "metadata": {},
   "source": [
    "- El gráfico histograma + densidad se obtiene con:\n"
   ]
  },
  {
   "cell_type": "code",
   "execution_count": 26,
   "id": "c0308aaa",
   "metadata": {},
   "outputs": [
    {
     "data": {
      "image/png": "[encoded data removed]",
      "text/plain": [
       "<Figure size 640x480 with 1 Axes>"
      ]
     },
     "metadata": {},
     "output_type": "display_data"
    }
   ],
   "source": [
    "dens_plot = sns.histplot(data=empleados, x=\"Age\", kde=True)\n",
    "dens_plot.lines[0].set_color(\"red\")\n",
    "dens_plot.lines[0].set_linewidth(3)\n"
   ]
  },
  {
   "cell_type": "markdown",
   "id": "61fa5ee9",
   "metadata": {},
   "source": [
    "- Aquí dejamos como ejercicio elegir los subintervalos de edad del histograma. Podemos dibujar un boxplot, con violinplot y puntos de la muestra superpuestos así:\n"
   ]
  },
  {
   "cell_type": "code",
   "execution_count": 27,
   "id": "6486cc1f",
   "metadata": {},
   "outputs": [
    {
     "data": {
      "image/png": "[encoded data removed]",
      "text/plain": [
       "<Figure size 640x480 with 1 Axes>"
      ]
     },
     "metadata": {},
     "output_type": "display_data"
    }
   ],
   "source": [
    "sns.violinplot(y=empleados.Age, alpha=0.3, color=\"tan\", width=0.25)\n",
    "sns.stripplot(y=\"Age\", data=empleados, color=\"red\", alpha=0.15, jitter=0.1)\n",
    "sns.boxplot(y=empleados.Age, width=0.5, color=\"gray\")\n",
    "plt.show()\n"
   ]
  },
  {
   "cell_type": "markdown",
   "id": "791c6646",
   "metadata": {},
   "source": [
    "- **C5: Estudia gráficamente (por ejemplo con boxplots) la relación entre la variable `Age` y la variable `Attrition`. ¿Influye el género en esa relación? Usa los recursos gráficos de ggplot para discutir la respuesta, lo que se busca es un juicio inicial basado en una exploración gráfica.**\n"
   ]
  },
  {
   "cell_type": "markdown",
   "id": "64a0d908",
   "metadata": {},
   "source": [
    "- El siguiente gráfico de boxplots paralelos por niveles muestra que el valor de `Age` es más bajo entre aquellos empleados para los que `Attrition` es `Yes`. Es decir, que los empleados de menor edad tienen más probabilidad de dejar la compañía. Pero no podemos deducir a partir de este gráfico si esa diferencia de edad entre los dos grupos es significativa.\n"
   ]
  },
  {
   "cell_type": "code",
   "execution_count": 28,
   "id": "eedda4ef",
   "metadata": {},
   "outputs": [
    {
     "data": {
      "image/png": "[encoded data removed]",
      "text/plain": [
       "<Figure size 640x480 with 1 Axes>"
      ]
     },
     "metadata": {},
     "output_type": "display_data"
    }
   ],
   "source": [
    "sns.boxplot(x=\"Attrition\", y=\"Age\", data=empleados)\n",
    "plt.show()\n"
   ]
  },
  {
   "cell_type": "markdown",
   "id": "36b0beb2",
   "metadata": {},
   "source": [
    "- Para estudiar gráficamente el posible efecto del género en esta relación usamos el argumento `hue`. Los boxplots paralelos en este caso muestran que la diferencia de edad entre los dos grupos es, en el caso de las mujeres, más acusada que en general.\n"
   ]
  },
  {
   "cell_type": "code",
   "execution_count": 29,
   "id": "5dd12d50",
   "metadata": {},
   "outputs": [
    {
     "data": {
      "image/png": "[encoded data removed]",
      "text/plain": [
       "<Figure size 640x480 with 1 Axes>"
      ]
     },
     "metadata": {},
     "output_type": "display_data"
    }
   ],
   "source": [
    "sns.boxplot(x=\"Attrition\", y=\"Age\", hue=\"Gender\", data=empleados)\n",
    "plt.show()\n"
   ]
  },
  {
   "cell_type": "markdown",
   "id": "df4d21aa",
   "metadata": {},
   "source": [
    "- **C6: Haz la tabla de frecuencias absolutas del factor `JobSatisfaction`. Después haz una representación gráfica adecuada de esa tabla. Opcionales:**\n",
    "  - **juega con los argumentos `fill` y `position` de `ggplot` para incorporar al gráfico la información de `Attrition` mediante colores.**\n",
    "  - **ten en cuenta que `JobSatisfaction` es un factor ordenado y trata de incorporar esa ordenación a la representación gráfica. Indicación: usa la función `factor` y sus argumentos `levels` y `ordered` para esto.**\n"
   ]
  },
  {
   "cell_type": "markdown",
   "id": "1ada87cc",
   "metadata": {},
   "source": [
    "- Para hacer que Python tenga en cuenta el orden de `JobSatisfaction` recodificamos esa variable como factor ordenado:\n"
   ]
  },
  {
   "cell_type": "code",
   "execution_count": 30,
   "id": "0d2265fc",
   "metadata": {},
   "outputs": [],
   "source": [
    "satisfaction_order = [\"Low\", \"Medium\", \"High\", \"Very_High\"]\n",
    "empleados.JobSatisfaction = pd.Categorical(\n",
    "    empleados.JobSatisfaction, categories=satisfaction_order, ordered=True\n",
    ")\n"
   ]
  },
  {
   "cell_type": "markdown",
   "id": "230f5fb4",
   "metadata": {},
   "source": [
    "- La tabla de frecuencias absolutas de `JobSatisfaction` es (usamos `sort_index` para que Python tenga ne cuenta ese orden de `JobSatisfaction`):\n"
   ]
  },
  {
   "cell_type": "code",
   "execution_count": 31,
   "id": "45a86ce7",
   "metadata": {},
   "outputs": [
    {
     "data": {
      "text/plain": [
       "JobSatisfaction\n",
       "Low          231\n",
       "Medium       219\n",
       "High         352\n",
       "Very_High    369\n",
       "Name: count, dtype: int64"
      ]
     },
     "execution_count": 31,
     "metadata": {},
     "output_type": "execute_result"
    }
   ],
   "source": [
    "absFreq_JobSatisfaction = empleados.JobSatisfaction.value_counts().sort_index(\n",
    "    ascending=True\n",
    ")\n",
    "absFreq_JobSatisfaction\n"
   ]
  },
  {
   "cell_type": "markdown",
   "id": "b569d0f7",
   "metadata": {},
   "source": [
    "- Y en un diagrama de barras:\n"
   ]
  },
  {
   "cell_type": "code",
   "execution_count": 32,
   "id": "54f67cad",
   "metadata": {},
   "outputs": [
    {
     "data": {
      "image/png": "[encoded data removed]",
      "text/plain": [
       "<Figure size 640x480 with 1 Axes>"
      ]
     },
     "metadata": {},
     "output_type": "display_data"
    }
   ],
   "source": [
    "plt.bar(x=satisfaction_order, height=absFreq_JobSatisfaction)\n",
    "plt.show()\n"
   ]
  },
  {
   "cell_type": "markdown",
   "id": "fc347e0f",
   "metadata": {},
   "source": [
    "- Para las partes opcionales de este apartado empezamos creando una tabla crusada de `JobSatisfaction` y `Attrition`.\n"
   ]
  },
  {
   "cell_type": "code",
   "execution_count": 33,
   "id": "c81b98ab",
   "metadata": {},
   "outputs": [
    {
     "data": {
      "text/html": [
       "<div>\n",
       "<style scoped>\n",
       "    .dataframe tbody tr th:only-of-type {\n",
       "        vertical-align: middle;\n",
       "    }\n",
       "\n",
       "    .dataframe tbody tr th {\n",
       "        vertical-align: top;\n",
       "    }\n",
       "\n",
       "    .dataframe thead th {\n",
       "        text-align: right;\n",
       "    }\n",
       "</style>\n",
       "<table border=\"1\" class=\"dataframe\">\n",
       "  <thead>\n",
       "    <tr style=\"text-align: right;\">\n",
       "      <th>Attrition</th>\n",
       "      <th>No</th>\n",
       "      <th>Yes</th>\n",
       "    </tr>\n",
       "    <tr>\n",
       "      <th>JobSatisfaction</th>\n",
       "      <th></th>\n",
       "      <th></th>\n",
       "    </tr>\n",
       "  </thead>\n",
       "  <tbody>\n",
       "    <tr>\n",
       "      <th>Low</th>\n",
       "      <td>178</td>\n",
       "      <td>53</td>\n",
       "    </tr>\n",
       "    <tr>\n",
       "      <th>Medium</th>\n",
       "      <td>185</td>\n",
       "      <td>34</td>\n",
       "    </tr>\n",
       "    <tr>\n",
       "      <th>High</th>\n",
       "      <td>297</td>\n",
       "      <td>55</td>\n",
       "    </tr>\n",
       "    <tr>\n",
       "      <th>Very_High</th>\n",
       "      <td>330</td>\n",
       "      <td>39</td>\n",
       "    </tr>\n",
       "  </tbody>\n",
       "</table>\n",
       "</div>"
      ],
      "text/plain": [
       "Attrition         No  Yes\n",
       "JobSatisfaction          \n",
       "Low              178   53\n",
       "Medium           185   34\n",
       "High             297   55\n",
       "Very_High        330   39"
      ]
     },
     "execution_count": 33,
     "metadata": {},
     "output_type": "execute_result"
    }
   ],
   "source": [
    "CT = pd.crosstab(empleados.JobSatisfaction, empleados.Attrition)\n",
    "CT"
   ]
  },
  {
   "cell_type": "code",
   "execution_count": 34,
   "id": "4d9da28c",
   "metadata": {},
   "outputs": [
    {
     "data": {
      "text/html": [
       "<div>\n",
       "<style scoped>\n",
       "    .dataframe tbody tr th:only-of-type {\n",
       "        vertical-align: middle;\n",
       "    }\n",
       "\n",
       "    .dataframe tbody tr th {\n",
       "        vertical-align: top;\n",
       "    }\n",
       "\n",
       "    .dataframe thead th {\n",
       "        text-align: right;\n",
       "    }\n",
       "</style>\n",
       "<table border=\"1\" class=\"dataframe\">\n",
       "  <thead>\n",
       "    <tr style=\"text-align: right;\">\n",
       "      <th>Attrition</th>\n",
       "      <th>No</th>\n",
       "      <th>Yes</th>\n",
       "    </tr>\n",
       "    <tr>\n",
       "      <th>JobSatisfaction</th>\n",
       "      <th></th>\n",
       "      <th></th>\n",
       "    </tr>\n",
       "  </thead>\n",
       "  <tbody>\n",
       "    <tr>\n",
       "      <th>Low</th>\n",
       "      <td>178</td>\n",
       "      <td>53</td>\n",
       "    </tr>\n",
       "    <tr>\n",
       "      <th>Medium</th>\n",
       "      <td>185</td>\n",
       "      <td>34</td>\n",
       "    </tr>\n",
       "    <tr>\n",
       "      <th>High</th>\n",
       "      <td>297</td>\n",
       "      <td>55</td>\n",
       "    </tr>\n",
       "    <tr>\n",
       "      <th>Very_High</th>\n",
       "      <td>330</td>\n",
       "      <td>39</td>\n",
       "    </tr>\n",
       "  </tbody>\n",
       "</table>\n",
       "</div>"
      ],
      "text/plain": [
       "Attrition         No  Yes\n",
       "JobSatisfaction          \n",
       "Low              178   53\n",
       "Medium           185   34\n",
       "High             297   55\n",
       "Very_High        330   39"
      ]
     },
     "execution_count": 34,
     "metadata": {},
     "output_type": "execute_result"
    }
   ],
   "source": [
    "# We add to the table the totals for each row\n",
    "CT[\"total\"] = CT.sum(axis=1)\n",
    "# Sort the table using those totals\n",
    "CT.sort_values(\"total\", inplace=True)\n",
    "# Remove them so thay do not interfere with the graphic\n",
    "CT2 = CT.drop(columns=[\"total\"]).sort_index()\n",
    "CT2\n"
   ]
  },
  {
   "cell_type": "markdown",
   "id": "7ece3677",
   "metadata": {},
   "source": [
    "- Y usamos esa información como se ilustró en la Sesión 7 para incorporarla al gráfico de barras:\n"
   ]
  },
  {
   "cell_type": "code",
   "execution_count": 35,
   "id": "ff2b1c66",
   "metadata": {},
   "outputs": [
    {
     "data": {
      "image/png": "[encoded data removed]",
      "text/plain": [
       "<Figure size 640x480 with 1 Axes>"
      ]
     },
     "metadata": {},
     "output_type": "display_data"
    }
   ],
   "source": [
    "percents = CT2.div(CT.total, axis=0).mul(100).round(2)\n",
    "\n",
    "percents.iloc[:, 0]\n",
    "\n",
    "ax = CT2.plot.bar(stacked=True, rot=0)\n",
    "\n",
    "for i in range(len(ax.containers)):\n",
    "    c = ax.containers[i]\n",
    "    # percent labels (or empty string below a threshold for close to 0%)\n",
    "    labels = [f\"{v:2.2f}%\" if (v > 1) else \"\" for v in percents.iloc[:, i]]\n",
    "    # add labels to bars\n",
    "    ax.bar_label(c, labels=labels, label_type=\"center\", fontsize=15)\n",
    "\n",
    "\n",
    "plt.show()\n"
   ]
  },
  {
   "cell_type": "markdown",
   "id": "90a8ac89",
   "metadata": {},
   "source": [
    "## Apartado 3\n",
    "\n",
    "- **C7: Calcula la mediana del salario mensual para cada departamento y cada nivel dentro de ese departamento. Ordena la respuesta de mayor a menor y asegúrate de que en la tabla de salida se muestran las columnas relevantes.**\n"
   ]
  },
  {
   "cell_type": "markdown",
   "id": "4f2b2a0f",
   "metadata": {},
   "source": [
    "- Es una aplicación directa de `groupby`:\n"
   ]
  },
  {
   "cell_type": "code",
   "execution_count": 36,
   "id": "f11218f0",
   "metadata": {},
   "outputs": [
    {
     "data": {
      "text/plain": [
       "Department            JobLevel\n",
       "Research_Development  5           19326.0\n",
       "Human_Resources       5           19189.0\n",
       "Sales                 5           19068.0\n",
       "Human_Resources       4           16799.0\n",
       "Research_Development  4           16413.0\n",
       "Sales                 4           15427.0\n",
       "Research_Development  3           10293.0\n",
       "Human_Resources       3            9756.0\n",
       "Sales                 3            9419.0\n",
       "Human_Resources       2            5910.0\n",
       "Sales                 2            5396.0\n",
       "Research_Development  2            5238.0\n",
       "Human_Resources       1            2706.0\n",
       "Research_Development  1            2700.0\n",
       "Sales                 1            2575.5\n",
       "Name: MonthlyIncome, dtype: float64"
      ]
     },
     "execution_count": 36,
     "metadata": {},
     "output_type": "execute_result"
    }
   ],
   "source": [
    "empleados.groupby([\"Department\", \"JobLevel\"]).MonthlyIncome.median().sort_values(\n",
    "    ascending=False\n",
    ")\n"
   ]
  },
  {
   "cell_type": "markdown",
   "id": "38dc45c8",
   "metadata": {},
   "source": [
    "- **C8: Si elegimos al azar un empleado cuyo nivel de satisfacción en el trabajo `JobSatisfaction` es `VeryHigh`, calcula la probabilidad de que sea soltero. Si elegimos un empleado de la empresa al azar ¿cuál es la probabilidad de que sea una mujer que lleva más de cinco años en la empresa?**\n"
   ]
  },
  {
   "cell_type": "markdown",
   "id": "3c921d2b",
   "metadata": {},
   "source": [
    "- Para calcular la primera probabilidad (condicionada) seleccionamos con la condición impuesta y hacemos una tabla de frecuencias relativas:\n"
   ]
  },
  {
   "cell_type": "code",
   "execution_count": 37,
   "id": "ede217b8",
   "metadata": {},
   "outputs": [
    {
     "data": {
      "text/plain": [
       "MaritalStatus\n",
       "Married     0.425474\n",
       "Single      0.355014\n",
       "Divorced    0.219512\n",
       "Name: proportion, dtype: float64"
      ]
     },
     "execution_count": 37,
     "metadata": {},
     "output_type": "execute_result"
    }
   ],
   "source": [
    "empleados.loc[empleados.JobSatisfaction == \"Very_High\"][\"MaritalStatus\"].value_counts(\n",
    "    normalize=True\n",
    ")\n"
   ]
  },
  {
   "cell_type": "markdown",
   "id": "16c9f42c",
   "metadata": {},
   "source": [
    "- La probabilidad pedida (soltero con JobSatisfaction == \"Very_High\") es el segundo valor de esta tabla.\n",
    "\n",
    "- Para la segunda probabilidad pedida (una intersección) simplemente dividimos el número de registros que cumplen ambas condiciones por el número total de empleados.\n"
   ]
  },
  {
   "cell_type": "code",
   "execution_count": 38,
   "id": "404152cb",
   "metadata": {},
   "outputs": [
    {
     "data": {
      "text/plain": [
       "0.19726729291204098"
      ]
     },
     "execution_count": 38,
     "metadata": {},
     "output_type": "execute_result"
    }
   ],
   "source": [
    "len(\n",
    "    empleados.loc[(empleados.Gender == \"Female\") &\n",
    "                  (empleados.YearsAtCompany > 5)]\n",
    ") / len(empleados)\n"
   ]
  },
  {
   "cell_type": "markdown",
   "id": "6a0ca2c9",
   "metadata": {},
   "source": [
    "- **C9: Si elegimos 12 empleados de esta compañía al azar y con remplezamiento, ¿cuál es la probabilidad\n",
    "  de que 4 de ellos hayan trabajado en 3 o más compañías (NumCompaniesWorked)?**\n"
   ]
  },
  {
   "cell_type": "markdown",
   "id": "681f9ea8",
   "metadata": {},
   "source": [
    "- Puesto que el muestreo es con remplazamiento, es una binomial, con $n = 12$ y probabilidad $p$ que se calcula así:\n"
   ]
  },
  {
   "cell_type": "code",
   "execution_count": 39,
   "id": "f082cd18",
   "metadata": {},
   "outputs": [
    {
     "data": {
      "text/plain": [
       "0.41417591801878734"
      ]
     },
     "execution_count": 39,
     "metadata": {},
     "output_type": "execute_result"
    }
   ],
   "source": [
    "p_binom = np.mean(empleados[\"NumCompaniesWorked\"] >= 3)\n",
    "p_binom\n"
   ]
  },
  {
   "cell_type": "markdown",
   "id": "6d30d9fd",
   "metadata": {},
   "source": [
    "- Ahora ya podemos calcular con la binomial $X\\sim B(n, p)$ la respuesta $P(X = 4)$\n"
   ]
  },
  {
   "cell_type": "code",
   "execution_count": 40,
   "id": "dce57835",
   "metadata": {},
   "outputs": [
    {
     "data": {
      "text/plain": [
       "0.2020609256259767"
      ]
     },
     "execution_count": 40,
     "metadata": {},
     "output_type": "execute_result"
    }
   ],
   "source": [
    "stats.binom.pmf(4, n=12, p=p_binom)\n"
   ]
  },
  {
   "cell_type": "markdown",
   "id": "f0699e4c",
   "metadata": {},
   "source": [
    "- **C10: Haz una tabla de contingencia (dos por dos) de `Attrition` frente a `Overtime`, la variable que nos dice si un empleado hace o no horas extras. Supongamos que queremos usar `Overtime` como una especie de _prueba diagnóstica_ de los valores de `Attrition`, equiparando enfermo/sano con `Attrition` Yes/No y test positivo/negativo con `Overtime` Yes/No. ¿Cuál es la tasa de falsos positivos de este test? ¿Cuál es la precisión del test? Opcional: ¿cuáles son su sensibilidad y especificidad?**\n"
   ]
  },
  {
   "cell_type": "markdown",
   "id": "1dcd0d77",
   "metadata": {},
   "source": [
    "- La tabla de contingencia pedida es:\n"
   ]
  },
  {
   "cell_type": "code",
   "execution_count": 41,
   "id": "bda2df65",
   "metadata": {},
   "outputs": [
    {
     "data": {
      "text/html": [
       "<div>\n",
       "<style scoped>\n",
       "    .dataframe tbody tr th:only-of-type {\n",
       "        vertical-align: middle;\n",
       "    }\n",
       "\n",
       "    .dataframe tbody tr th {\n",
       "        vertical-align: top;\n",
       "    }\n",
       "\n",
       "    .dataframe thead th {\n",
       "        text-align: right;\n",
       "    }\n",
       "</style>\n",
       "<table border=\"1\" class=\"dataframe\">\n",
       "  <thead>\n",
       "    <tr style=\"text-align: right;\">\n",
       "      <th>OverTime</th>\n",
       "      <th>No</th>\n",
       "      <th>Yes</th>\n",
       "    </tr>\n",
       "    <tr>\n",
       "      <th>Attrition</th>\n",
       "      <th></th>\n",
       "      <th></th>\n",
       "    </tr>\n",
       "  </thead>\n",
       "  <tbody>\n",
       "    <tr>\n",
       "      <th>No</th>\n",
       "      <td>765</td>\n",
       "      <td>225</td>\n",
       "    </tr>\n",
       "    <tr>\n",
       "      <th>Yes</th>\n",
       "      <td>83</td>\n",
       "      <td>98</td>\n",
       "    </tr>\n",
       "  </tbody>\n",
       "</table>\n",
       "</div>"
      ],
      "text/plain": [
       "OverTime    No  Yes\n",
       "Attrition          \n",
       "No         765  225\n",
       "Yes         83   98"
      ]
     },
     "execution_count": 41,
     "metadata": {},
     "output_type": "execute_result"
    }
   ],
   "source": [
    "CT = pd.crosstab(empleados.Attrition, empleados.OverTime)\n",
    "CT"
   ]
  },
  {
   "cell_type": "markdown",
   "id": "53152c45",
   "metadata": {},
   "source": [
    "- Para facilitar las operaciones convertimos la tabla a un array de NumPy:\n"
   ]
  },
  {
   "cell_type": "code",
   "execution_count": 42,
   "id": "244fb0cd",
   "metadata": {},
   "outputs": [
    {
     "data": {
      "text/plain": [
       "array([[765, 225],\n",
       "       [ 83,  98]])"
      ]
     },
     "execution_count": 42,
     "metadata": {},
     "output_type": "execute_result"
    }
   ],
   "source": [
    "CT_np = CT.to_numpy()\n",
    "CT_np"
   ]
  },
  {
   "cell_type": "markdown",
   "id": "d04dfb07",
   "metadata": {},
   "source": [
    "- La tasa de falsos positivos se puede calcular sobre el total o, a menudo, sobre los negativos reales. En el primer caso sería:\n"
   ]
  },
  {
   "cell_type": "code",
   "execution_count": 51,
   "id": "36315ace",
   "metadata": {},
   "outputs": [
    {
     "data": {
      "text/plain": [
       "0.19214346712211786"
      ]
     },
     "execution_count": 51,
     "metadata": {},
     "output_type": "execute_result"
    }
   ],
   "source": [
    "FP = CT_np[0, 1] / CT_np.sum()\n",
    "FP\n"
   ]
  },
  {
   "cell_type": "markdown",
   "id": "a5b97e5a",
   "metadata": {},
   "source": [
    "- En el segundo sería:\n"
   ]
  },
  {
   "cell_type": "code",
   "execution_count": 44,
   "id": "d901ba87",
   "metadata": {},
   "outputs": [
    {
     "data": {
      "text/plain": [
       "0.22727272727272727"
      ]
     },
     "execution_count": 44,
     "metadata": {},
     "output_type": "execute_result"
    }
   ],
   "source": [
    "CT_np[0, 1] / CT_np[0, :].sum()\n"
   ]
  },
  {
   "cell_type": "markdown",
   "id": "f0cde88d",
   "metadata": {},
   "source": [
    "- Para la precisión debemos sumar la diagonal (TP + TN) y dividir por el total:\n"
   ]
  },
  {
   "cell_type": "code",
   "execution_count": 45,
   "id": "0a42b97a",
   "metadata": {},
   "outputs": [
    {
     "data": {
      "text/plain": [
       "0.7369769427839453"
      ]
     },
     "execution_count": 45,
     "metadata": {},
     "output_type": "execute_result"
    }
   ],
   "source": [
    "precision = np.diagonal(CT_np).sum() / CT_np.sum()\n",
    "precision"
   ]
  },
  {
   "cell_type": "markdown",
   "id": "eca1e9f4",
   "metadata": {},
   "source": [
    "- **C11: Asumiendo la normalidad de los datos, calcula un intervalo de confianza al 95% para la edad medio de los empleados del departamento más numeroso de la empresa. Opcional: ¿crees que está justificada la hipótesis de normalidad de esos datos?**\n"
   ]
  },
  {
   "cell_type": "markdown",
   "id": "904a6091",
   "metadata": {},
   "source": [
    "- Primero localizamos el departamento más numeroso con:\n"
   ]
  },
  {
   "cell_type": "code",
   "execution_count": 46,
   "id": "079ba627",
   "metadata": {},
   "outputs": [
    {
     "data": {
      "text/plain": [
       "Department\n",
       "Research_Development    771\n",
       "Sales                   350\n",
       "Human_Resources          50\n",
       "Name: count, dtype: int64"
      ]
     },
     "execution_count": 46,
     "metadata": {},
     "output_type": "execute_result"
    }
   ],
   "source": [
    "empleados[\"Department\"].value_counts(sort=True)\n"
   ]
  },
  {
   "cell_type": "markdown",
   "id": "0e13b7c8",
   "metadata": {},
   "source": [
    "- Es `Research_Development`. Podemos calcular un intervalo de confianza a mano así:\n"
   ]
  },
  {
   "cell_type": "code",
   "execution_count": 47,
   "id": "a06bc667",
   "metadata": {},
   "outputs": [
    {
     "name": "stdout",
     "output_type": "stream",
     "text": [
      "The confidence interval is [36.43, 37.71]\n"
     ]
    }
   ],
   "source": [
    "RD_Age = empleados.loc[empleados.Department == \"Research_Development\"][\"Age\"]\n",
    "data = RD_Age\n",
    "# Compute the necessary sample values\n",
    "n = data.size\n",
    "dof = n - 1\n",
    "\n",
    "barX = data.mean()\n",
    "s = data.std()\n",
    "\n",
    "# Critical point computation with the Student's t:\n",
    "cl = 0.95\n",
    "alpha = 1 - cl\n",
    "crit_point = stats.t.isf(alpha / 2, df=n - 1, loc=0, scale=1)\n",
    "\n",
    "# Formula for the confidence interval\n",
    "conf_int = barX + np.array([-1, 1]) * crit_point * s / np.sqrt(n)\n",
    "print(\"The confidence interval is [{:.4}, {:.4}]\".format(\n",
    "    conf_int[0], conf_int[1]))\n"
   ]
  },
  {
   "cell_type": "markdown",
   "id": "8d5238d2",
   "metadata": {},
   "source": [
    "- O con `stats` así:\n"
   ]
  },
  {
   "cell_type": "code",
   "execution_count": 48,
   "id": "9e064810",
   "metadata": {},
   "outputs": [
    {
     "ename": "TypeError",
     "evalue": "interval() missing 1 required positional argument: 'confidence'",
     "output_type": "error",
     "traceback": [
      "\u001b[0;31m---------------------------------------------------------------------------\u001b[0m",
      "\u001b[0;31mTypeError\u001b[0m                                 Traceback (most recent call last)",
      "\u001b[1;32m/home/perezs/mbd/fmad/perezs-fmad-v2/pastExams/2021/Examen 2021 Solucion.ipynb Cell 99\u001b[0m line \u001b[0;36m1\n\u001b[0;32m----> <a href='vscode-notebook-cell:/home/perezs/mbd/fmad/perezs-fmad-v2/pastExams/2021/Examen%202021%20Solucion.ipynb#Y200sZmlsZQ%3D%3D?line=0'>1</a>\u001b[0m stats\u001b[39m.\u001b[39;49mt\u001b[39m.\u001b[39;49minterval(\n\u001b[1;32m      <a href='vscode-notebook-cell:/home/perezs/mbd/fmad/perezs-fmad-v2/pastExams/2021/Examen%202021%20Solucion.ipynb#Y200sZmlsZQ%3D%3D?line=1'>2</a>\u001b[0m     alpha\u001b[39m=\u001b[39;49m\u001b[39m0.95\u001b[39;49m, df\u001b[39m=\u001b[39;49m\u001b[39mlen\u001b[39;49m(RD_Age) \u001b[39m-\u001b[39;49m \u001b[39m1\u001b[39;49m, loc\u001b[39m=\u001b[39;49mnp\u001b[39m.\u001b[39;49mmean(RD_Age), scale\u001b[39m=\u001b[39;49mstats\u001b[39m.\u001b[39;49msem(RD_Age)\n\u001b[1;32m      <a href='vscode-notebook-cell:/home/perezs/mbd/fmad/perezs-fmad-v2/pastExams/2021/Examen%202021%20Solucion.ipynb#Y200sZmlsZQ%3D%3D?line=2'>3</a>\u001b[0m )\n",
      "\u001b[0;31mTypeError\u001b[0m: interval() missing 1 required positional argument: 'confidence'"
     ]
    }
   ],
   "source": [
    "stats.t.interval(\n",
    "    alpha=0.95, df=len(RD_Age) - 1, loc=np.mean(RD_Age), scale=stats.sem(RD_Age)\n",
    ")\n"
   ]
  },
  {
   "cell_type": "markdown",
   "id": "741b53ca",
   "metadata": {},
   "source": [
    "- Si hemos considerado que el tamaño de la muestra es suficientemente grande como para usar la normal en lugar de la $t$ de Student, obtendremos:\n"
   ]
  },
  {
   "cell_type": "code",
   "execution_count": null,
   "id": "d5ec07aa",
   "metadata": {},
   "outputs": [
    {
     "data": {
      "text/plain": [
       "(36.42609536696152, 37.71138842032772)"
      ]
     },
     "execution_count": 1144,
     "metadata": {},
     "output_type": "execute_result"
    }
   ],
   "source": [
    "stats.norm.interval(alpha=0.95, loc=np.mean(RD_Age), scale=stats.sem(RD_Age))"
   ]
  },
  {
   "cell_type": "markdown",
   "id": "07854948",
   "metadata": {},
   "source": [
    "- Para verificar la normalidad de la muestra podemos usar un qq-plot. En este caso con una muestra de este tamaño, la desviación de la normalidad que se aprecia en las colas parece significativa.\n"
   ]
  },
  {
   "cell_type": "code",
   "execution_count": null,
   "id": "868626b1",
   "metadata": {},
   "outputs": [
    {
     "data": {
      "image/png": "[encoded data removed]",
      "text/plain": [
       "<Figure size 640x480 with 1 Axes>"
      ]
     },
     "metadata": {},
     "output_type": "display_data"
    }
   ],
   "source": [
    "sm.qqplot(RD_Age, line=\"s\")\n",
    "plt.show()"
   ]
  },
  {
   "cell_type": "markdown",
   "id": "360625d0",
   "metadata": {},
   "source": [
    "- Formalmente disponemos del contraste de Shapiro-Wilk, cuya hipótesis nula es \"la muestra procede de una población normal\" y cuyo p-valor podemos calcular en Python con:\n"
   ]
  },
  {
   "cell_type": "code",
   "execution_count": null,
   "id": "0d88a116",
   "metadata": {},
   "outputs": [
    {
     "data": {
      "text/plain": [
       "8.753747726686356e-10"
      ]
     },
     "execution_count": 1146,
     "metadata": {},
     "output_type": "execute_result"
    }
   ],
   "source": [
    "shap_wilk = stats.shapiro(RD_Age)\n",
    "shap_wilk.pvalue"
   ]
  },
  {
   "cell_type": "markdown",
   "id": "0d746304",
   "metadata": {},
   "source": [
    "- Esto nos lleva a rechazar la hipótesis nula y confirmar las sospechas de que la normalidad de la muestra no está garantizada.\n"
   ]
  },
  {
   "cell_type": "markdown",
   "id": "ab5268d6",
   "metadata": {},
   "source": [
    "- **C12: Toma una muestra aleatoria y con remplazamiento de 20 empleados del departamento de ventas y haz un contraste (al 95% de significación) de la _hipótesis nula:_ la distancia media a su domicilio es de 9 km. Asegúrate de mantener el comando `set.seed` como primera línea de tu respuesta en este apartado para garantizar la reproducibilidad.**\n"
   ]
  },
  {
   "cell_type": "markdown",
   "id": "6d0fefa4",
   "metadata": {},
   "source": [
    "- Se puede realizar con `ttest_1_samp` de `stats`.\n"
   ]
  },
  {
   "cell_type": "code",
   "execution_count": null,
   "id": "9d5cf3e6",
   "metadata": {},
   "outputs": [
    {
     "data": {
      "text/plain": [
       "Ttest_1sampResult(statistic=0.2660722172015492, pvalue=0.7930494826790722)"
      ]
     },
     "execution_count": 1147,
     "metadata": {},
     "output_type": "execute_result"
    }
   ],
   "source": [
    "sales_sample = empleados.loc[empleados.Department == \"Sales\"].sample(\n",
    "    n=20, random_state=2022\n",
    ")\n",
    "\n",
    "stats.ttest_1samp(sales_sample.DistanceFromHome,\n",
    "                  popmean=9, alternative=\"two-sided\")\n"
   ]
  },
  {
   "cell_type": "markdown",
   "id": "7f6c909b",
   "metadata": {},
   "source": [
    "- El p-valor es muy grande, asi que **no** rechazamos la hipótesis nula.\n"
   ]
  },
  {
   "cell_type": "markdown",
   "id": "940f8290",
   "metadata": {},
   "source": [
    "- **C13: Considerando los empleados del departamento _Research_Development_ vamos a hacer un modelo de regresión lineal para las dos variables:  \n",
    "  $x:$ YearsAtCompany\n",
    "  $y:$ MonthlyIncome  \n",
    "  Construye el modelo usando la función `lm` y además dibuja el diagrama de dispersión de esas variables junto con la recta de regresión obtenida. ¿Qué porcentaje de la variabilidad en el salario mensual se explica con el modelo? ¿Cuánto se incrementa el salario mensual de un empleado de ese departamento por cada año de antigüedad en la empresa?**\n"
   ]
  },
  {
   "cell_type": "markdown",
   "id": "75e44e76",
   "metadata": {},
   "source": [
    "- La forma más cómoda de obtener el modelo de regresión es usando `statsmodels`, como hemos visto:\n"
   ]
  },
  {
   "cell_type": "code",
   "execution_count": null,
   "id": "70a9dd54",
   "metadata": {},
   "outputs": [
    {
     "data": {
      "text/html": [
       "<table class=\"simpletable\">\n",
       "<caption>OLS Regression Results</caption>\n",
       "<tr>\n",
       "  <th>Dep. Variable:</th>      <td>MonthlyIncome</td>  <th>  R-squared:         </th> <td>   0.237</td> \n",
       "</tr>\n",
       "<tr>\n",
       "  <th>Model:</th>                   <td>OLS</td>       <th>  Adj. R-squared:    </th> <td>   0.236</td> \n",
       "</tr>\n",
       "<tr>\n",
       "  <th>Method:</th>             <td>Least Squares</td>  <th>  F-statistic:       </th> <td>   238.8</td> \n",
       "</tr>\n",
       "<tr>\n",
       "  <th>Date:</th>             <td>Sun, 02 Oct 2022</td> <th>  Prob (F-statistic):</th> <td>4.09e-47</td> \n",
       "</tr>\n",
       "<tr>\n",
       "  <th>Time:</th>                 <td>18:00:17</td>     <th>  Log-Likelihood:    </th> <td> -7533.1</td> \n",
       "</tr>\n",
       "<tr>\n",
       "  <th>No. Observations:</th>      <td>   771</td>      <th>  AIC:               </th> <td>1.507e+04</td>\n",
       "</tr>\n",
       "<tr>\n",
       "  <th>Df Residuals:</th>          <td>   769</td>      <th>  BIC:               </th> <td>1.508e+04</td>\n",
       "</tr>\n",
       "<tr>\n",
       "  <th>Df Model:</th>              <td>     1</td>      <th>                     </th>     <td> </td>    \n",
       "</tr>\n",
       "<tr>\n",
       "  <th>Covariance Type:</th>      <td>nonrobust</td>    <th>                     </th>     <td> </td>    \n",
       "</tr>\n",
       "</table>\n",
       "<table class=\"simpletable\">\n",
       "<tr>\n",
       "         <td></td>           <th>coef</th>     <th>std err</th>      <th>t</th>      <th>P>|t|</th>  <th>[0.025</th>    <th>0.975]</th>  \n",
       "</tr>\n",
       "<tr>\n",
       "  <th>const</th>          <td> 3599.4544</td> <td>  230.998</td> <td>   15.582</td> <td> 0.000</td> <td> 3145.992</td> <td> 4052.917</td>\n",
       "</tr>\n",
       "<tr>\n",
       "  <th>YearsAtCompany</th> <td>  386.9214</td> <td>   25.038</td> <td>   15.453</td> <td> 0.000</td> <td>  337.770</td> <td>  436.073</td>\n",
       "</tr>\n",
       "</table>\n",
       "<table class=\"simpletable\">\n",
       "<tr>\n",
       "  <th>Omnibus:</th>       <td>204.854</td> <th>  Durbin-Watson:     </th> <td>   1.930</td>\n",
       "</tr>\n",
       "<tr>\n",
       "  <th>Prob(Omnibus):</th> <td> 0.000</td>  <th>  Jarque-Bera (JB):  </th> <td> 429.793</td>\n",
       "</tr>\n",
       "<tr>\n",
       "  <th>Skew:</th>          <td> 1.482</td>  <th>  Prob(JB):          </th> <td>4.70e-94</td>\n",
       "</tr>\n",
       "<tr>\n",
       "  <th>Kurtosis:</th>      <td> 5.142</td>  <th>  Cond. No.          </th> <td>    14.0</td>\n",
       "</tr>\n",
       "</table><br/><br/>Notes:<br/>[1] Standard Errors assume that the covariance matrix of the errors is correctly specified."
      ],
      "text/plain": [
       "<class 'statsmodels.iolib.summary.Summary'>\n",
       "\"\"\"\n",
       "                            OLS Regression Results                            \n",
       "==============================================================================\n",
       "Dep. Variable:          MonthlyIncome   R-squared:                       0.237\n",
       "Model:                            OLS   Adj. R-squared:                  0.236\n",
       "Method:                 Least Squares   F-statistic:                     238.8\n",
       "Date:                Sun, 02 Oct 2022   Prob (F-statistic):           4.09e-47\n",
       "Time:                        18:00:17   Log-Likelihood:                -7533.1\n",
       "No. Observations:                 771   AIC:                         1.507e+04\n",
       "Df Residuals:                     769   BIC:                         1.508e+04\n",
       "Df Model:                           1                                         \n",
       "Covariance Type:            nonrobust                                         \n",
       "==================================================================================\n",
       "                     coef    std err          t      P>|t|      [0.025      0.975]\n",
       "----------------------------------------------------------------------------------\n",
       "const           3599.4544    230.998     15.582      0.000    3145.992    4052.917\n",
       "YearsAtCompany   386.9214     25.038     15.453      0.000     337.770     436.073\n",
       "==============================================================================\n",
       "Omnibus:                      204.854   Durbin-Watson:                   1.930\n",
       "Prob(Omnibus):                  0.000   Jarque-Bera (JB):              429.793\n",
       "Skew:                           1.482   Prob(JB):                     4.70e-94\n",
       "Kurtosis:                       5.142   Cond. No.                         14.0\n",
       "==============================================================================\n",
       "\n",
       "Notes:\n",
       "[1] Standard Errors assume that the covariance matrix of the errors is correctly specified.\n",
       "\"\"\""
      ]
     },
     "execution_count": 1148,
     "metadata": {},
     "output_type": "execute_result"
    }
   ],
   "source": [
    "RD = empleados.loc[empleados.Department == \"Research_Development\"]\n",
    "X = sm.add_constant(RD.YearsAtCompany)\n",
    "Y = RD.MonthlyIncome\n",
    "model_RD = sm.OLS(Y, X)\n",
    "RD_fit = model_RD.fit()\n",
    "RD_fit.summary()\n"
   ]
  },
  {
   "cell_type": "markdown",
   "id": "a3939405",
   "metadata": {},
   "source": [
    "- La tabla anterior muestra que el porcentaje de variabilidad explicado por el modelo es (en tanto por uno):\n"
   ]
  },
  {
   "cell_type": "code",
   "execution_count": null,
   "id": "e12ee5c2",
   "metadata": {},
   "outputs": [
    {
     "data": {
      "text/plain": [
       "0.23694971973611856"
      ]
     },
     "execution_count": 1149,
     "metadata": {},
     "output_type": "execute_result"
    }
   ],
   "source": [
    "RD_fit.rsquared"
   ]
  },
  {
   "cell_type": "markdown",
   "id": "6091d3e9",
   "metadata": {},
   "source": [
    "- Por lo que el modelo no parece estar ajustándose bien a los datos.\n",
    "\n",
    "- El incremento del salario mensual de un empleado de ese departamento por cada año de antigüedad en la empresa es el coeficiente de `YearsAtCompany`, es decir:\n"
   ]
  },
  {
   "cell_type": "code",
   "execution_count": null,
   "id": "fbbeb710",
   "metadata": {},
   "outputs": [
    {
     "data": {
      "text/plain": [
       "386.92139382322625"
      ]
     },
     "execution_count": 1150,
     "metadata": {},
     "output_type": "execute_result"
    }
   ],
   "source": [
    "RD_fit.params[1]"
   ]
  },
  {
   "cell_type": "markdown",
   "id": "c17f7368",
   "metadata": {},
   "source": [
    "- Para obtener una representación gráfica:\n"
   ]
  },
  {
   "cell_type": "code",
   "execution_count": null,
   "id": "b52e4037",
   "metadata": {},
   "outputs": [
    {
     "data": {
      "text/plain": [
       "[<matplotlib.lines.Line2D at 0x177699750>]"
      ]
     },
     "execution_count": 1151,
     "metadata": {},
     "output_type": "execute_result"
    },
    {
     "data": {
      "image/png": "[encoded data removed]",
      "text/plain": [
       "<Figure size 800x600 with 1 Axes>"
      ]
     },
     "metadata": {},
     "output_type": "display_data"
    }
   ],
   "source": [
    "X_new = np.linspace(X.min(), X.max(), 100)\n",
    "X_new = sm.add_constant(X_new)\n",
    "RD_fit.pred = RD_fit.get_prediction(X_new)\n",
    "RD_fit_fitted_new = RD_fit.pred.summary_frame(alpha=0.05)[\"mean\"]\n",
    "fig, ax = plt.subplots(figsize=(8, 6))\n",
    "ax.plot(X.iloc[:, 1], Y, \"o\", label=\"data\")\n",
    "ax.plot(X_new[:, 1], RD_fit_fitted_new, \"y--\", lw=4)\n"
   ]
  },
  {
   "cell_type": "code",
   "execution_count": null,
   "id": "949906d8",
   "metadata": {},
   "outputs": [],
   "source": []
  }
 ],
 "metadata": {
  "kernelspec": {
   "display_name": "Python 3 (ipykernel)",
   "language": "python",
   "name": "python3"
  },
  "language_info": {
   "codemirror_mode": {
    "name": "ipython",
    "version": 3
   },
   "file_extension": ".py",
   "mimetype": "text/x-python",
   "name": "python",
   "nbconvert_exporter": "python",
   "pygments_lexer": "ipython3",
   "version": "3.9.18"
  }
 },
 "nbformat": 4,
 "nbformat_minor": 5
}
