{
 "cells": [
  {
   "cell_type": "code",
   "execution_count": 482,
   "metadata": {},
   "outputs": [],
   "source": [
    "import pandas as pd\n",
    "import numpy as np\n",
    "import matplotlib.pyplot as plt\n",
    "import seaborn as sns\n",
    "from scipy import stats\n",
    "\n",
    "sns.set_theme()\n"
   ]
  },
  {
   "cell_type": "code",
   "execution_count": 483,
   "metadata": {},
   "outputs": [],
   "source": [
    "employees = pd.read_csv(\"./data/empleados.csv\")\n"
   ]
  },
  {
   "cell_type": "markdown",
   "metadata": {},
   "source": [
    "## Ejercicio 1\n"
   ]
  },
  {
   "cell_type": "markdown",
   "metadata": {},
   "source": [
    "**Enunciado**\n",
    "C1: ¿Cuántas observaciones hay en la tabla? ¿Cuántas variables? ¿Hay datos ausentes? Si la respuesta\n",
    "a la última pregunta es afirmativa, localiza esos datos ausentes indicando en qué filas y columnas se\n",
    "encuentran. Después, antes de seguir adelante, elimina de la tabla las filas que contienen esos datos\n"
   ]
  },
  {
   "cell_type": "code",
   "execution_count": 484,
   "metadata": {},
   "outputs": [
    {
     "name": "stdout",
     "output_type": "stream",
     "text": [
      "Hay 3528 observaciones y 21 variables en la tabla\n"
     ]
    }
   ],
   "source": [
    "num_rows, num_columns = employees.shape\n",
    "print(f\"Hay {num_rows} observaciones y {num_columns} variables en la tabla\")"
   ]
  },
  {
   "cell_type": "code",
   "execution_count": 485,
   "metadata": {},
   "outputs": [
    {
     "name": "stdout",
     "output_type": "stream",
     "text": [
      "{'DistanceFromHome': [30, 31, 32, 897, 898, 899, 1593, 1594, 1595], 'NumCompaniesWorked': [147, 148, 149, 1092, 1093, 1094]}\n"
     ]
    }
   ],
   "source": [
    "missing_values = {}\n",
    "for column in employees.columns:\n",
    "    # If that column has no missing values, skip to the next column\n",
    "    if employees[column].isna().sum() == 0:\n",
    "        continue\n",
    "    # Create a new entry in the missing_values dictionary wit the form column_name : [...indexes of missing values]\n",
    "    rows = employees[employees[column].isna()].index.to_list()\n",
    "    missing_values[column] = rows\n",
    "\n",
    "print(missing_values)"
   ]
  },
  {
   "cell_type": "code",
   "execution_count": 486,
   "metadata": {},
   "outputs": [],
   "source": [
    "# Drop every row that contains a missing value\n",
    "employees.dropna(inplace=True)"
   ]
  },
  {
   "cell_type": "markdown",
   "metadata": {},
   "source": [
    "## Ejercicio 2\n"
   ]
  },
  {
   "cell_type": "markdown",
   "metadata": {},
   "source": [
    "**Enunciado**\n",
    "C2: Vamos a fijarnos en las tres últimas columnas de la tabla, que son:\n",
    "RateType, Rate, Education_Field\n",
    "En particular verás que las columnas Rate y RateType incumplen una de las condiciones que definen a\n",
    "los conjuntos de datos limpios (tidy), porque la columna Rate mezcla los valores de más de una variable.\n",
    "La variable correspondiente se indica en la columna Rate_type. Por otro lado, Education_Field\n",
    "incumple otra de esas condiciones, porque cada fila de esa tabla combina los valores de dos variable. En\n",
    "este apartado debes limpiar el conjunto de datos utilizando las herramientas del tidyverse. Visualiza\n",
    "el resultado usando select para que la salida del código muestre exclusivamente las variables que se\n",
    "han modificado en este apartado (¡cuidado, no modifiques los datos al hacer esto!)\n"
   ]
  },
  {
   "cell_type": "markdown",
   "metadata": {},
   "source": [
    "**pista**: Las primeras 3 columnas se refieren al mismo empleado\n"
   ]
  },
  {
   "cell_type": "code",
   "execution_count": 487,
   "metadata": {},
   "outputs": [
    {
     "data": {
      "text/plain": [
       "RateType\n",
       "DailyRate      1171\n",
       "HourlyRate     1171\n",
       "MonthlyRate    1171\n",
       "Name: count, dtype: int64"
      ]
     },
     "execution_count": 487,
     "metadata": {},
     "output_type": "execute_result"
    }
   ],
   "source": [
    "employees[\"RateType\"].value_counts()\n"
   ]
  },
  {
   "cell_type": "markdown",
   "metadata": {},
   "source": [
    "Las columnas están agrupadas en grupos de 3 que se refieren al mismo empleado, i.e. columnas 1-3 son del empleado 1. La única información que no se repite es la de 'Rate' y 'RateType'\n"
   ]
  },
  {
   "cell_type": "code",
   "execution_count": 488,
   "metadata": {},
   "outputs": [
    {
     "data": {
      "text/html": [
       "<div>\n",
       "<style scoped>\n",
       "    .dataframe tbody tr th:only-of-type {\n",
       "        vertical-align: middle;\n",
       "    }\n",
       "\n",
       "    .dataframe tbody tr th {\n",
       "        vertical-align: top;\n",
       "    }\n",
       "\n",
       "    .dataframe thead th {\n",
       "        text-align: right;\n",
       "    }\n",
       "</style>\n",
       "<table border=\"1\" class=\"dataframe\">\n",
       "  <thead>\n",
       "    <tr style=\"text-align: right;\">\n",
       "      <th></th>\n",
       "      <th>Age</th>\n",
       "      <th>Attrition</th>\n",
       "      <th>BusinessTravel</th>\n",
       "      <th>Department</th>\n",
       "      <th>DistanceFromHome</th>\n",
       "      <th>Gender</th>\n",
       "      <th>JobLevel</th>\n",
       "      <th>JobRole</th>\n",
       "      <th>JobSatisfaction</th>\n",
       "      <th>MaritalStatus</th>\n",
       "      <th>MonthlyIncome</th>\n",
       "      <th>NumCompaniesWorked</th>\n",
       "      <th>OverTime</th>\n",
       "      <th>PerformanceRating</th>\n",
       "      <th>TotalWorkingYears</th>\n",
       "      <th>TrainingTimesLastYear</th>\n",
       "      <th>YearsAtCompany</th>\n",
       "      <th>YearsInCurrentRole</th>\n",
       "      <th>DailyRate</th>\n",
       "      <th>HourlyRate</th>\n",
       "      <th>MonthlyRate</th>\n",
       "      <th>Education</th>\n",
       "      <th>Field</th>\n",
       "    </tr>\n",
       "  </thead>\n",
       "  <tbody>\n",
       "    <tr>\n",
       "      <th>0</th>\n",
       "      <td>31</td>\n",
       "      <td>No</td>\n",
       "      <td>Travel_Rarely</td>\n",
       "      <td>Research_Development</td>\n",
       "      <td>23.0</td>\n",
       "      <td>Male</td>\n",
       "      <td>2</td>\n",
       "      <td>Healthcare_Representative</td>\n",
       "      <td>Very_High</td>\n",
       "      <td>Married</td>\n",
       "      <td>5582</td>\n",
       "      <td>0.0</td>\n",
       "      <td>No</td>\n",
       "      <td>Outstanding</td>\n",
       "      <td>10</td>\n",
       "      <td>2</td>\n",
       "      <td>9</td>\n",
       "      <td>0</td>\n",
       "      <td>1463</td>\n",
       "      <td>64</td>\n",
       "      <td>14408</td>\n",
       "      <td>Bachelor</td>\n",
       "      <td>Medical</td>\n",
       "    </tr>\n",
       "    <tr>\n",
       "      <th>1</th>\n",
       "      <td>31</td>\n",
       "      <td>Yes</td>\n",
       "      <td>Travel_Frequently</td>\n",
       "      <td>Research_Development</td>\n",
       "      <td>15.0</td>\n",
       "      <td>Male</td>\n",
       "      <td>1</td>\n",
       "      <td>Laboratory_Technician</td>\n",
       "      <td>High</td>\n",
       "      <td>Married</td>\n",
       "      <td>2610</td>\n",
       "      <td>1.0</td>\n",
       "      <td>No</td>\n",
       "      <td>Excellent</td>\n",
       "      <td>2</td>\n",
       "      <td>5</td>\n",
       "      <td>2</td>\n",
       "      <td>2</td>\n",
       "      <td>874</td>\n",
       "      <td>72</td>\n",
       "      <td>6233</td>\n",
       "      <td>Bachelor</td>\n",
       "      <td>Medical</td>\n",
       "    </tr>\n",
       "    <tr>\n",
       "      <th>2</th>\n",
       "      <td>30</td>\n",
       "      <td>No</td>\n",
       "      <td>Non-Travel</td>\n",
       "      <td>Research_Development</td>\n",
       "      <td>2.0</td>\n",
       "      <td>Female</td>\n",
       "      <td>1</td>\n",
       "      <td>Laboratory_Technician</td>\n",
       "      <td>Very_High</td>\n",
       "      <td>Single</td>\n",
       "      <td>2564</td>\n",
       "      <td>0.0</td>\n",
       "      <td>No</td>\n",
       "      <td>Excellent</td>\n",
       "      <td>12</td>\n",
       "      <td>2</td>\n",
       "      <td>11</td>\n",
       "      <td>7</td>\n",
       "      <td>1116</td>\n",
       "      <td>49</td>\n",
       "      <td>7181</td>\n",
       "      <td>Bachelor</td>\n",
       "      <td>Medical</td>\n",
       "    </tr>\n",
       "    <tr>\n",
       "      <th>3</th>\n",
       "      <td>28</td>\n",
       "      <td>Yes</td>\n",
       "      <td>Non-Travel</td>\n",
       "      <td>Research_Development</td>\n",
       "      <td>24.0</td>\n",
       "      <td>Male</td>\n",
       "      <td>3</td>\n",
       "      <td>Healthcare_Representative</td>\n",
       "      <td>Low</td>\n",
       "      <td>Single</td>\n",
       "      <td>8722</td>\n",
       "      <td>1.0</td>\n",
       "      <td>No</td>\n",
       "      <td>Excellent</td>\n",
       "      <td>10</td>\n",
       "      <td>2</td>\n",
       "      <td>10</td>\n",
       "      <td>7</td>\n",
       "      <td>1366</td>\n",
       "      <td>72</td>\n",
       "      <td>12355</td>\n",
       "      <td>College</td>\n",
       "      <td>Technical_Degree</td>\n",
       "    </tr>\n",
       "    <tr>\n",
       "      <th>4</th>\n",
       "      <td>32</td>\n",
       "      <td>No</td>\n",
       "      <td>Travel_Rarely</td>\n",
       "      <td>Sales</td>\n",
       "      <td>8.0</td>\n",
       "      <td>Male</td>\n",
       "      <td>2</td>\n",
       "      <td>Sales_Executive</td>\n",
       "      <td>Very_High</td>\n",
       "      <td>Married</td>\n",
       "      <td>6209</td>\n",
       "      <td>1.0</td>\n",
       "      <td>No</td>\n",
       "      <td>Excellent</td>\n",
       "      <td>10</td>\n",
       "      <td>4</td>\n",
       "      <td>10</td>\n",
       "      <td>7</td>\n",
       "      <td>604</td>\n",
       "      <td>56</td>\n",
       "      <td>11693</td>\n",
       "      <td>Bachelor</td>\n",
       "      <td>Medical</td>\n",
       "    </tr>\n",
       "    <tr>\n",
       "      <th>...</th>\n",
       "      <td>...</td>\n",
       "      <td>...</td>\n",
       "      <td>...</td>\n",
       "      <td>...</td>\n",
       "      <td>...</td>\n",
       "      <td>...</td>\n",
       "      <td>...</td>\n",
       "      <td>...</td>\n",
       "      <td>...</td>\n",
       "      <td>...</td>\n",
       "      <td>...</td>\n",
       "      <td>...</td>\n",
       "      <td>...</td>\n",
       "      <td>...</td>\n",
       "      <td>...</td>\n",
       "      <td>...</td>\n",
       "      <td>...</td>\n",
       "      <td>...</td>\n",
       "      <td>...</td>\n",
       "      <td>...</td>\n",
       "      <td>...</td>\n",
       "      <td>...</td>\n",
       "      <td>...</td>\n",
       "    </tr>\n",
       "    <tr>\n",
       "      <th>1166</th>\n",
       "      <td>50</td>\n",
       "      <td>No</td>\n",
       "      <td>Travel_Frequently</td>\n",
       "      <td>Research_Development</td>\n",
       "      <td>2.0</td>\n",
       "      <td>Female</td>\n",
       "      <td>4</td>\n",
       "      <td>Manager</td>\n",
       "      <td>Low</td>\n",
       "      <td>Married</td>\n",
       "      <td>17856</td>\n",
       "      <td>2.0</td>\n",
       "      <td>No</td>\n",
       "      <td>Outstanding</td>\n",
       "      <td>32</td>\n",
       "      <td>3</td>\n",
       "      <td>2</td>\n",
       "      <td>2</td>\n",
       "      <td>1421</td>\n",
       "      <td>30</td>\n",
       "      <td>9490</td>\n",
       "      <td>Bachelor</td>\n",
       "      <td>Medical</td>\n",
       "    </tr>\n",
       "    <tr>\n",
       "      <th>1167</th>\n",
       "      <td>22</td>\n",
       "      <td>No</td>\n",
       "      <td>Travel_Rarely</td>\n",
       "      <td>Research_Development</td>\n",
       "      <td>19.0</td>\n",
       "      <td>Male</td>\n",
       "      <td>1</td>\n",
       "      <td>Research_Scientist</td>\n",
       "      <td>Very_High</td>\n",
       "      <td>Married</td>\n",
       "      <td>2323</td>\n",
       "      <td>1.0</td>\n",
       "      <td>No</td>\n",
       "      <td>Outstanding</td>\n",
       "      <td>2</td>\n",
       "      <td>6</td>\n",
       "      <td>2</td>\n",
       "      <td>2</td>\n",
       "      <td>1256</td>\n",
       "      <td>80</td>\n",
       "      <td>11992</td>\n",
       "      <td>Below_College</td>\n",
       "      <td>Medical</td>\n",
       "    </tr>\n",
       "    <tr>\n",
       "      <th>1168</th>\n",
       "      <td>57</td>\n",
       "      <td>No</td>\n",
       "      <td>Travel_Rarely</td>\n",
       "      <td>Research_Development</td>\n",
       "      <td>24.0</td>\n",
       "      <td>Male</td>\n",
       "      <td>3</td>\n",
       "      <td>Healthcare_Representative</td>\n",
       "      <td>Very_High</td>\n",
       "      <td>Divorced</td>\n",
       "      <td>9439</td>\n",
       "      <td>3.0</td>\n",
       "      <td>Yes</td>\n",
       "      <td>Excellent</td>\n",
       "      <td>12</td>\n",
       "      <td>2</td>\n",
       "      <td>5</td>\n",
       "      <td>3</td>\n",
       "      <td>334</td>\n",
       "      <td>83</td>\n",
       "      <td>23402</td>\n",
       "      <td>College</td>\n",
       "      <td>Life_Sciences</td>\n",
       "    </tr>\n",
       "    <tr>\n",
       "      <th>1169</th>\n",
       "      <td>37</td>\n",
       "      <td>No</td>\n",
       "      <td>Travel_Frequently</td>\n",
       "      <td>Sales</td>\n",
       "      <td>21.0</td>\n",
       "      <td>Female</td>\n",
       "      <td>1</td>\n",
       "      <td>Sales_Representative</td>\n",
       "      <td>Very_High</td>\n",
       "      <td>Married</td>\n",
       "      <td>2973</td>\n",
       "      <td>5.0</td>\n",
       "      <td>No</td>\n",
       "      <td>Excellent</td>\n",
       "      <td>10</td>\n",
       "      <td>3</td>\n",
       "      <td>5</td>\n",
       "      <td>4</td>\n",
       "      <td>1231</td>\n",
       "      <td>54</td>\n",
       "      <td>21222</td>\n",
       "      <td>College</td>\n",
       "      <td>Medical</td>\n",
       "    </tr>\n",
       "    <tr>\n",
       "      <th>1170</th>\n",
       "      <td>26</td>\n",
       "      <td>No</td>\n",
       "      <td>Travel_Rarely</td>\n",
       "      <td>Sales</td>\n",
       "      <td>1.0</td>\n",
       "      <td>Male</td>\n",
       "      <td>2</td>\n",
       "      <td>Sales_Executive</td>\n",
       "      <td>High</td>\n",
       "      <td>Married</td>\n",
       "      <td>5296</td>\n",
       "      <td>1.0</td>\n",
       "      <td>No</td>\n",
       "      <td>Excellent</td>\n",
       "      <td>8</td>\n",
       "      <td>3</td>\n",
       "      <td>8</td>\n",
       "      <td>7</td>\n",
       "      <td>933</td>\n",
       "      <td>57</td>\n",
       "      <td>20156</td>\n",
       "      <td>Bachelor</td>\n",
       "      <td>Life_Sciences</td>\n",
       "    </tr>\n",
       "  </tbody>\n",
       "</table>\n",
       "<p>1171 rows × 23 columns</p>\n",
       "</div>"
      ],
      "text/plain": [
       "      Age Attrition     BusinessTravel            Department  \\\n",
       "0      31        No      Travel_Rarely  Research_Development   \n",
       "1      31       Yes  Travel_Frequently  Research_Development   \n",
       "2      30        No         Non-Travel  Research_Development   \n",
       "3      28       Yes         Non-Travel  Research_Development   \n",
       "4      32        No      Travel_Rarely                 Sales   \n",
       "...   ...       ...                ...                   ...   \n",
       "1166   50        No  Travel_Frequently  Research_Development   \n",
       "1167   22        No      Travel_Rarely  Research_Development   \n",
       "1168   57        No      Travel_Rarely  Research_Development   \n",
       "1169   37        No  Travel_Frequently                 Sales   \n",
       "1170   26        No      Travel_Rarely                 Sales   \n",
       "\n",
       "      DistanceFromHome  Gender  JobLevel                    JobRole  \\\n",
       "0                 23.0    Male         2  Healthcare_Representative   \n",
       "1                 15.0    Male         1      Laboratory_Technician   \n",
       "2                  2.0  Female         1      Laboratory_Technician   \n",
       "3                 24.0    Male         3  Healthcare_Representative   \n",
       "4                  8.0    Male         2            Sales_Executive   \n",
       "...                ...     ...       ...                        ...   \n",
       "1166               2.0  Female         4                    Manager   \n",
       "1167              19.0    Male         1         Research_Scientist   \n",
       "1168              24.0    Male         3  Healthcare_Representative   \n",
       "1169              21.0  Female         1       Sales_Representative   \n",
       "1170               1.0    Male         2            Sales_Executive   \n",
       "\n",
       "     JobSatisfaction MaritalStatus  MonthlyIncome  NumCompaniesWorked  \\\n",
       "0          Very_High       Married           5582                 0.0   \n",
       "1               High       Married           2610                 1.0   \n",
       "2          Very_High        Single           2564                 0.0   \n",
       "3                Low        Single           8722                 1.0   \n",
       "4          Very_High       Married           6209                 1.0   \n",
       "...              ...           ...            ...                 ...   \n",
       "1166             Low       Married          17856                 2.0   \n",
       "1167       Very_High       Married           2323                 1.0   \n",
       "1168       Very_High      Divorced           9439                 3.0   \n",
       "1169       Very_High       Married           2973                 5.0   \n",
       "1170            High       Married           5296                 1.0   \n",
       "\n",
       "     OverTime PerformanceRating  TotalWorkingYears  TrainingTimesLastYear  \\\n",
       "0          No       Outstanding                 10                      2   \n",
       "1          No         Excellent                  2                      5   \n",
       "2          No         Excellent                 12                      2   \n",
       "3          No         Excellent                 10                      2   \n",
       "4          No         Excellent                 10                      4   \n",
       "...       ...               ...                ...                    ...   \n",
       "1166       No       Outstanding                 32                      3   \n",
       "1167       No       Outstanding                  2                      6   \n",
       "1168      Yes         Excellent                 12                      2   \n",
       "1169       No         Excellent                 10                      3   \n",
       "1170       No         Excellent                  8                      3   \n",
       "\n",
       "      YearsAtCompany  YearsInCurrentRole  DailyRate  HourlyRate  MonthlyRate  \\\n",
       "0                  9                   0       1463          64        14408   \n",
       "1                  2                   2        874          72         6233   \n",
       "2                 11                   7       1116          49         7181   \n",
       "3                 10                   7       1366          72        12355   \n",
       "4                 10                   7        604          56        11693   \n",
       "...              ...                 ...        ...         ...          ...   \n",
       "1166               2                   2       1421          30         9490   \n",
       "1167               2                   2       1256          80        11992   \n",
       "1168               5                   3        334          83        23402   \n",
       "1169               5                   4       1231          54        21222   \n",
       "1170               8                   7        933          57        20156   \n",
       "\n",
       "          Education             Field  \n",
       "0          Bachelor           Medical  \n",
       "1          Bachelor           Medical  \n",
       "2          Bachelor           Medical  \n",
       "3           College  Technical_Degree  \n",
       "4          Bachelor           Medical  \n",
       "...             ...               ...  \n",
       "1166       Bachelor           Medical  \n",
       "1167  Below_College           Medical  \n",
       "1168        College     Life_Sciences  \n",
       "1169        College           Medical  \n",
       "1170       Bachelor     Life_Sciences  \n",
       "\n",
       "[1171 rows x 23 columns]"
      ]
     },
     "execution_count": 488,
     "metadata": {},
     "output_type": "execute_result"
    }
   ],
   "source": [
    "# Create a new temporal DataFrame df, which is a copy of every third row in employees\n",
    "df = employees.copy()[0::3].reset_index(drop=True)\n",
    "# Keep only the columns that are stay the same inside every group of 3\n",
    "df.drop([\"Rate\", \"RateType\"], axis=1, inplace=True)\n",
    "\n",
    "# Create 3 new columns in the data frame that contain all the information of [\"Rate\", \"RateType\"]\n",
    "df[\"DailyRate\"] = my_df.loc[0::3][\"Rate\"].reset_index(drop=True)\n",
    "df[\"HourlyRate\"] = my_df.loc[1::3][\"Rate\"].reset_index(drop=True)\n",
    "df[\"MonthlyRate\"] = my_df.loc[2::3][\"Rate\"].reset_index(drop=True)\n",
    "\n",
    "# Split the 'Education_Field' column in 2\n",
    "df[[\"Education\", \"Field\"]] = df[\"Education_Field\"].str.split(\"//\", expand=True)\n",
    "df.drop(\"Education_Field\", axis=1, inplace=True)\n",
    "\n",
    "# Assign employees to a copy of the df that we just constructed\n",
    "employees = df.copy()\n",
    "employees\n"
   ]
  },
  {
   "cell_type": "markdown",
   "metadata": {},
   "source": [
    "## Ejercicio 3\n"
   ]
  },
  {
   "cell_type": "markdown",
   "metadata": {},
   "source": [
    "C3: Una vez limpios los datos: ¿de qué tipo son las variables del conjunto de datos? Usa la función\n",
    "mutate_if de dplyr (o alternativamente usa across) para asegurarte de que todas las variables de\n",
    "esta tabla que se han leído como character se convierten en factores. Mira la ayuda de mutate_if\n",
    "para hacer esto si lo necesitas. Después haz una lista de variables cuantitativas y otra de variables\n",
    "cualitativas (factores). ¿Cuáles, dentro de estas últimas, son factores ordenados (no es necesario incluir\n",
    "el orden en el proceso de transformación de estos factores)?\n"
   ]
  },
  {
   "cell_type": "code",
   "execution_count": 489,
   "metadata": {},
   "outputs": [
    {
     "data": {
      "text/plain": [
       "Age                        int64\n",
       "Attrition                 object\n",
       "BusinessTravel            object\n",
       "Department                object\n",
       "DistanceFromHome         float64\n",
       "Gender                    object\n",
       "JobLevel                   int64\n",
       "JobRole                   object\n",
       "JobSatisfaction           object\n",
       "MaritalStatus             object\n",
       "MonthlyIncome              int64\n",
       "NumCompaniesWorked       float64\n",
       "OverTime                  object\n",
       "PerformanceRating         object\n",
       "TotalWorkingYears          int64\n",
       "TrainingTimesLastYear      int64\n",
       "YearsAtCompany             int64\n",
       "YearsInCurrentRole         int64\n",
       "DailyRate                  int64\n",
       "HourlyRate                 int64\n",
       "MonthlyRate                int64\n",
       "Education                 object\n",
       "Field                     object\n",
       "dtype: object"
      ]
     },
     "execution_count": 489,
     "metadata": {},
     "output_type": "execute_result"
    }
   ],
   "source": [
    "employees.dtypes"
   ]
  },
  {
   "cell_type": "code",
   "execution_count": 493,
   "metadata": {},
   "outputs": [],
   "source": [
    "# Get a list that contains all the column names for the columns with dtype == object\n",
    "categorical_columns = employees.columns[employees.dtypes == \"object\"]\n",
    "\n",
    "# Cast the categorical columns as type 'category'\n",
    "employees[categorical_columns] = employees[categorical_columns].astype(\n",
    "    \"category\")\n"
   ]
  },
  {
   "cell_type": "code",
   "execution_count": 494,
   "metadata": {},
   "outputs": [
    {
     "data": {
      "text/plain": [
       "Age                         int64\n",
       "Attrition                category\n",
       "BusinessTravel           category\n",
       "Department               category\n",
       "DistanceFromHome          float64\n",
       "Gender                   category\n",
       "JobLevel                    int64\n",
       "JobRole                  category\n",
       "JobSatisfaction          category\n",
       "MaritalStatus            category\n",
       "MonthlyIncome               int64\n",
       "NumCompaniesWorked        float64\n",
       "OverTime                 category\n",
       "PerformanceRating        category\n",
       "TotalWorkingYears           int64\n",
       "TrainingTimesLastYear       int64\n",
       "YearsAtCompany              int64\n",
       "YearsInCurrentRole          int64\n",
       "DailyRate                   int64\n",
       "HourlyRate                  int64\n",
       "MonthlyRate                 int64\n",
       "Education                category\n",
       "Field                    category\n",
       "dtype: object"
      ]
     },
     "execution_count": 494,
     "metadata": {},
     "output_type": "execute_result"
    }
   ],
   "source": [
    "# Make sure that the type change was successful\n",
    "employees.dtypes"
   ]
  },
  {
   "cell_type": "code",
   "execution_count": 495,
   "metadata": {},
   "outputs": [
    {
     "data": {
      "text/html": [
       "<div>\n",
       "<style scoped>\n",
       "    .dataframe tbody tr th:only-of-type {\n",
       "        vertical-align: middle;\n",
       "    }\n",
       "\n",
       "    .dataframe tbody tr th {\n",
       "        vertical-align: top;\n",
       "    }\n",
       "\n",
       "    .dataframe thead th {\n",
       "        text-align: right;\n",
       "    }\n",
       "</style>\n",
       "<table border=\"1\" class=\"dataframe\">\n",
       "  <thead>\n",
       "    <tr style=\"text-align: right;\">\n",
       "      <th></th>\n",
       "      <th>Age</th>\n",
       "      <th>Attrition</th>\n",
       "      <th>BusinessTravel</th>\n",
       "      <th>Department</th>\n",
       "      <th>DistanceFromHome</th>\n",
       "      <th>Gender</th>\n",
       "      <th>JobLevel</th>\n",
       "      <th>JobRole</th>\n",
       "      <th>JobSatisfaction</th>\n",
       "      <th>MaritalStatus</th>\n",
       "      <th>MonthlyIncome</th>\n",
       "      <th>NumCompaniesWorked</th>\n",
       "      <th>OverTime</th>\n",
       "      <th>PerformanceRating</th>\n",
       "      <th>TotalWorkingYears</th>\n",
       "      <th>TrainingTimesLastYear</th>\n",
       "      <th>YearsAtCompany</th>\n",
       "      <th>YearsInCurrentRole</th>\n",
       "      <th>DailyRate</th>\n",
       "      <th>HourlyRate</th>\n",
       "      <th>MonthlyRate</th>\n",
       "      <th>Education</th>\n",
       "      <th>Field</th>\n",
       "    </tr>\n",
       "  </thead>\n",
       "  <tbody>\n",
       "    <tr>\n",
       "      <th>0</th>\n",
       "      <td>31</td>\n",
       "      <td>No</td>\n",
       "      <td>Travel_Rarely</td>\n",
       "      <td>Research_Development</td>\n",
       "      <td>23.0</td>\n",
       "      <td>Male</td>\n",
       "      <td>2</td>\n",
       "      <td>Healthcare_Representative</td>\n",
       "      <td>Very_High</td>\n",
       "      <td>Married</td>\n",
       "      <td>5582</td>\n",
       "      <td>0.0</td>\n",
       "      <td>No</td>\n",
       "      <td>Outstanding</td>\n",
       "      <td>10</td>\n",
       "      <td>2</td>\n",
       "      <td>9</td>\n",
       "      <td>0</td>\n",
       "      <td>1463</td>\n",
       "      <td>64</td>\n",
       "      <td>14408</td>\n",
       "      <td>Bachelor</td>\n",
       "      <td>Medical</td>\n",
       "    </tr>\n",
       "    <tr>\n",
       "      <th>1</th>\n",
       "      <td>31</td>\n",
       "      <td>Yes</td>\n",
       "      <td>Travel_Frequently</td>\n",
       "      <td>Research_Development</td>\n",
       "      <td>15.0</td>\n",
       "      <td>Male</td>\n",
       "      <td>1</td>\n",
       "      <td>Laboratory_Technician</td>\n",
       "      <td>High</td>\n",
       "      <td>Married</td>\n",
       "      <td>2610</td>\n",
       "      <td>1.0</td>\n",
       "      <td>No</td>\n",
       "      <td>Excellent</td>\n",
       "      <td>2</td>\n",
       "      <td>5</td>\n",
       "      <td>2</td>\n",
       "      <td>2</td>\n",
       "      <td>874</td>\n",
       "      <td>72</td>\n",
       "      <td>6233</td>\n",
       "      <td>Bachelor</td>\n",
       "      <td>Medical</td>\n",
       "    </tr>\n",
       "    <tr>\n",
       "      <th>2</th>\n",
       "      <td>30</td>\n",
       "      <td>No</td>\n",
       "      <td>Non-Travel</td>\n",
       "      <td>Research_Development</td>\n",
       "      <td>2.0</td>\n",
       "      <td>Female</td>\n",
       "      <td>1</td>\n",
       "      <td>Laboratory_Technician</td>\n",
       "      <td>Very_High</td>\n",
       "      <td>Single</td>\n",
       "      <td>2564</td>\n",
       "      <td>0.0</td>\n",
       "      <td>No</td>\n",
       "      <td>Excellent</td>\n",
       "      <td>12</td>\n",
       "      <td>2</td>\n",
       "      <td>11</td>\n",
       "      <td>7</td>\n",
       "      <td>1116</td>\n",
       "      <td>49</td>\n",
       "      <td>7181</td>\n",
       "      <td>Bachelor</td>\n",
       "      <td>Medical</td>\n",
       "    </tr>\n",
       "    <tr>\n",
       "      <th>3</th>\n",
       "      <td>28</td>\n",
       "      <td>Yes</td>\n",
       "      <td>Non-Travel</td>\n",
       "      <td>Research_Development</td>\n",
       "      <td>24.0</td>\n",
       "      <td>Male</td>\n",
       "      <td>3</td>\n",
       "      <td>Healthcare_Representative</td>\n",
       "      <td>Low</td>\n",
       "      <td>Single</td>\n",
       "      <td>8722</td>\n",
       "      <td>1.0</td>\n",
       "      <td>No</td>\n",
       "      <td>Excellent</td>\n",
       "      <td>10</td>\n",
       "      <td>2</td>\n",
       "      <td>10</td>\n",
       "      <td>7</td>\n",
       "      <td>1366</td>\n",
       "      <td>72</td>\n",
       "      <td>12355</td>\n",
       "      <td>College</td>\n",
       "      <td>Technical_Degree</td>\n",
       "    </tr>\n",
       "    <tr>\n",
       "      <th>4</th>\n",
       "      <td>32</td>\n",
       "      <td>No</td>\n",
       "      <td>Travel_Rarely</td>\n",
       "      <td>Sales</td>\n",
       "      <td>8.0</td>\n",
       "      <td>Male</td>\n",
       "      <td>2</td>\n",
       "      <td>Sales_Executive</td>\n",
       "      <td>Very_High</td>\n",
       "      <td>Married</td>\n",
       "      <td>6209</td>\n",
       "      <td>1.0</td>\n",
       "      <td>No</td>\n",
       "      <td>Excellent</td>\n",
       "      <td>10</td>\n",
       "      <td>4</td>\n",
       "      <td>10</td>\n",
       "      <td>7</td>\n",
       "      <td>604</td>\n",
       "      <td>56</td>\n",
       "      <td>11693</td>\n",
       "      <td>Bachelor</td>\n",
       "      <td>Medical</td>\n",
       "    </tr>\n",
       "  </tbody>\n",
       "</table>\n",
       "</div>"
      ],
      "text/plain": [
       "   Age Attrition     BusinessTravel            Department  DistanceFromHome  \\\n",
       "0   31        No      Travel_Rarely  Research_Development              23.0   \n",
       "1   31       Yes  Travel_Frequently  Research_Development              15.0   \n",
       "2   30        No         Non-Travel  Research_Development               2.0   \n",
       "3   28       Yes         Non-Travel  Research_Development              24.0   \n",
       "4   32        No      Travel_Rarely                 Sales               8.0   \n",
       "\n",
       "   Gender  JobLevel                    JobRole JobSatisfaction MaritalStatus  \\\n",
       "0    Male         2  Healthcare_Representative       Very_High       Married   \n",
       "1    Male         1      Laboratory_Technician            High       Married   \n",
       "2  Female         1      Laboratory_Technician       Very_High        Single   \n",
       "3    Male         3  Healthcare_Representative             Low        Single   \n",
       "4    Male         2            Sales_Executive       Very_High       Married   \n",
       "\n",
       "   MonthlyIncome  NumCompaniesWorked OverTime PerformanceRating  \\\n",
       "0           5582                 0.0       No       Outstanding   \n",
       "1           2610                 1.0       No         Excellent   \n",
       "2           2564                 0.0       No         Excellent   \n",
       "3           8722                 1.0       No         Excellent   \n",
       "4           6209                 1.0       No         Excellent   \n",
       "\n",
       "   TotalWorkingYears  TrainingTimesLastYear  YearsAtCompany  \\\n",
       "0                 10                      2               9   \n",
       "1                  2                      5               2   \n",
       "2                 12                      2              11   \n",
       "3                 10                      2              10   \n",
       "4                 10                      4              10   \n",
       "\n",
       "   YearsInCurrentRole  DailyRate  HourlyRate  MonthlyRate Education  \\\n",
       "0                   0       1463          64        14408  Bachelor   \n",
       "1                   2        874          72         6233  Bachelor   \n",
       "2                   7       1116          49         7181  Bachelor   \n",
       "3                   7       1366          72        12355   College   \n",
       "4                   7        604          56        11693  Bachelor   \n",
       "\n",
       "              Field  \n",
       "0           Medical  \n",
       "1           Medical  \n",
       "2           Medical  \n",
       "3  Technical_Degree  \n",
       "4           Medical  "
      ]
     },
     "execution_count": 495,
     "metadata": {},
     "output_type": "execute_result"
    }
   ],
   "source": [
    "# Print data from all columns to make sure that the columns with type 'category' are indeed categories\n",
    "pd.set_option(\"display.max_columns\", None)\n",
    "employees.head()"
   ]
  },
  {
   "cell_type": "markdown",
   "metadata": {},
   "source": [
    "## Ejercicio 4\n"
   ]
  },
  {
   "cell_type": "markdown",
   "metadata": {},
   "source": [
    "**Enunciado** C4: Representa gráficamente la distribución de la variable edad Age mediante un histograma con la\n",
    "curva de densidad de la variable superpuesta. Recuerda que en este y otros apartados se valorará\n",
    "positivamente el uso de ggplot. Representa también un boxplot de la variable edad. Opcionalmente\n",
    "puedes usar un violinpot o añadir los puntos de la muestra (asegúrate en ese caso de que no impiden\n",
    "ver el boxplot).\n"
   ]
  },
  {
   "cell_type": "code",
   "execution_count": 519,
   "metadata": {},
   "outputs": [
    {
     "data": {
      "image/png": "[encoded data removed]",
      "text/plain": [
       "<Figure size 1600x400 with 4 Axes>"
      ]
     },
     "metadata": {},
     "output_type": "display_data"
    }
   ],
   "source": [
    "figure, axis = plt.subplots(1, 4, figsize=(16, 4))\n",
    "\n",
    "sns.histplot(data=employees, y=\"Age\", kde=True, ax=axis[0])\n",
    "sns.boxplot(data=employees, y=\"Age\", ax=axis[1])\n",
    "sns.violinplot(data=employees, y=\"Age\", ax=axis[2])\n",
    "sns.stripplot(data=employees, y=\"Age\", ax=axis[3], alpha=0.2)\n",
    "\n",
    "# make the y axis consistent for all plots\n",
    "for i in range(0, 4):\n",
    "    axis[i].set_ylim(employees[\"Age\"].min() - 5, employees[\"Age\"].max() + 5)\n"
   ]
  },
  {
   "cell_type": "markdown",
   "metadata": {},
   "source": [
    "## Ejercicio 5\n"
   ]
  },
  {
   "cell_type": "markdown",
   "metadata": {},
   "source": [
    "C5: Estudia gráficamente (por ejemplo con boxplots) la relación entre la variable Age y la variable\n",
    "Attrition. ¿Influye el género en esa relación? Usa los recursos gráficos de ggplot para discutir la\n",
    "respuesta, lo que se busca es un juicio inicial basado en una exploración gráfica.\n"
   ]
  },
  {
   "cell_type": "code",
   "execution_count": 559,
   "metadata": {},
   "outputs": [
    {
     "data": {
      "image/png": "[encoded data removed]",
      "text/plain": [
       "<Figure size 1600x400 with 4 Axes>"
      ]
     },
     "metadata": {},
     "output_type": "display_data"
    }
   ],
   "source": [
    "figure, axis = plt.subplots(1, 4, figsize=(16, 4))\n",
    "\n",
    "sns.boxplot(data=employees, y=\"Age\", x=\"Attrition\", ax=axis[0])\n",
    "sns.boxplot(data=employees, y=\"Age\", x=\"Attrition\", hue=\"Gender\", ax=axis[1])\n",
    "sns.violinplot(data=employees, y=\"Age\", x=\"Attrition\", ax=axis[2])\n",
    "sns.violinplot(data=employees, y=\"Age\", x=\"Attrition\", hue=\"Gender\", ax=axis[3])\n",
    "\n",
    "sns.move_legend(axis[1], \"lower center\")\n",
    "sns.move_legend(axis[3], \"upper center\")"
   ]
  },
  {
   "cell_type": "markdown",
   "metadata": {},
   "source": [
    "Los empleados que sufren desgaste (attrition == True) tienden a ser más jóvenes. El género también influye: está relación está más marcada en las mujeres, i.e. la diferencia de edad entre los empleados desgastados y no desgastados es más pronunciada en las mujeres.\n"
   ]
  },
  {
   "cell_type": "markdown",
   "metadata": {},
   "source": [
    "## Ejercicio 6\n"
   ]
  },
  {
   "cell_type": "markdown",
   "metadata": {},
   "source": [
    "C6: Haz la tabla de frecuencias absolutas del factor JobSatisfaction. Después haz una representación\n",
    "gráfica adecuada de esa tabla. Opcionales:\n",
    "– juega con los argumentos fill y position de ggplot para incorporar al gráfico la información\n",
    "de Attrition mediante colores.\n",
    "– ten en cuenta que JobSatisfaction es un factor ordenado y trata de incorporar esa ordenación a\n",
    "la representación gráfica. Indicación: usa la función factor y sus argumentos levels y ordered\n",
    "para esto\n"
   ]
  },
  {
   "cell_type": "code",
   "execution_count": 527,
   "metadata": {},
   "outputs": [],
   "source": [
    "# Order the categorical value 'JobSatisfaction' so that the absolute frequencies table and the plot follow the correct order\n",
    "employees[\"JobSatisfaction\"] = employees[\"JobSatisfaction\"].cat.reorder_categories(\n",
    "    [\"Low\", \"Medium\", \"High\", \"Very_High\"]\n",
    ")\n"
   ]
  },
  {
   "cell_type": "code",
   "execution_count": 526,
   "metadata": {},
   "outputs": [
    {
     "data": {
      "text/plain": [
       "JobSatisfaction\n",
       "High         352\n",
       "Low          231\n",
       "Medium       219\n",
       "Very_High    369\n",
       "Name: count, dtype: int64"
      ]
     },
     "execution_count": 526,
     "metadata": {},
     "output_type": "execute_result"
    }
   ],
   "source": [
    "# Get the absolute frequencies for the categorical variable 'JobSatisfaction'\n",
    "abs_freq = employees[\"JobSatisfaction\"].value_counts().sort_index()\n",
    "abs_freq\n"
   ]
  },
  {
   "cell_type": "code",
   "execution_count": 533,
   "metadata": {},
   "outputs": [
    {
     "data": {
      "text/html": [
       "<div>\n",
       "<style scoped>\n",
       "    .dataframe tbody tr th:only-of-type {\n",
       "        vertical-align: middle;\n",
       "    }\n",
       "\n",
       "    .dataframe tbody tr th {\n",
       "        vertical-align: top;\n",
       "    }\n",
       "\n",
       "    .dataframe thead th {\n",
       "        text-align: right;\n",
       "    }\n",
       "</style>\n",
       "<table border=\"1\" class=\"dataframe\">\n",
       "  <thead>\n",
       "    <tr style=\"text-align: right;\">\n",
       "      <th>Attrition</th>\n",
       "      <th>No</th>\n",
       "      <th>Yes</th>\n",
       "    </tr>\n",
       "    <tr>\n",
       "      <th>JobSatisfaction</th>\n",
       "      <th></th>\n",
       "      <th></th>\n",
       "    </tr>\n",
       "  </thead>\n",
       "  <tbody>\n",
       "    <tr>\n",
       "      <th>Low</th>\n",
       "      <td>178</td>\n",
       "      <td>53</td>\n",
       "    </tr>\n",
       "    <tr>\n",
       "      <th>Medium</th>\n",
       "      <td>185</td>\n",
       "      <td>34</td>\n",
       "    </tr>\n",
       "    <tr>\n",
       "      <th>High</th>\n",
       "      <td>297</td>\n",
       "      <td>55</td>\n",
       "    </tr>\n",
       "    <tr>\n",
       "      <th>Very_High</th>\n",
       "      <td>330</td>\n",
       "      <td>39</td>\n",
       "    </tr>\n",
       "  </tbody>\n",
       "</table>\n",
       "</div>"
      ],
      "text/plain": [
       "Attrition         No  Yes\n",
       "JobSatisfaction          \n",
       "Low              178   53\n",
       "Medium           185   34\n",
       "High             297   55\n",
       "Very_High        330   39"
      ]
     },
     "execution_count": 533,
     "metadata": {},
     "output_type": "execute_result"
    }
   ],
   "source": [
    "# Create a contingency table for 'JobSatisfaction' and 'Attrition'\n",
    "contingency_table = pd.crosstab(employees[\"JobSatisfaction\"], employees[\"Attrition\"])\n",
    "contingency_table"
   ]
  },
  {
   "cell_type": "code",
   "execution_count": 563,
   "metadata": {},
   "outputs": [
    {
     "data": {
      "image/png": "[encoded data removed]",
      "text/plain": [
       "<Figure size 1200x400 with 2 Axes>"
      ]
     },
     "metadata": {},
     "output_type": "display_data"
    }
   ],
   "source": [
    "figure, axis = plt.subplots(1, 2, figsize=(12, 4))\n",
    "\n",
    "# If input a categorical value to sns.histplot you get a bar chart with the frequency of each category\n",
    "# With the parameter stat it's possible to display the absolute frequencies, relative frequencies, relative frequencies expressed as a percentage, ...\n",
    "\n",
    "sns.histplot(\n",
    "    data=employees, x=\"JobSatisfaction\", ax=axis[0], stat=\"percent\", shrink=0.8\n",
    ")\n",
    "\n",
    "sns.histplot(\n",
    "    data=employees,\n",
    "    x=\"JobSatisfaction\",\n",
    "    hue=\"Attrition\",\n",
    "    ax=axis[1],\n",
    "    stat=\"percent\",\n",
    "    common_norm=False,\n",
    "    multiple=\"dodge\",\n",
    "    shrink=0.8,\n",
    ")\n",
    "\n",
    "axis[0].bar_label(axis[0].containers[1], fmt=\"%.1f\")\n",
    "for i in range(0, 2):\n",
    "    axis[1].bar_label(axis[1].containers[i], fmt=\"%.1f\")\n",
    "sns.move_legend(axis[1], \"lower center\")"
   ]
  },
  {
   "cell_type": "markdown",
   "metadata": {},
   "source": [
    "## Ejercicio 7\n"
   ]
  },
  {
   "cell_type": "markdown",
   "metadata": {},
   "source": [
    "C7: Calcula la mediana del salario mensual para cada departamento y cada nivel dentro de ese departamento. Ordena la respuesta de mayor a menor y asegúrate de que en la tabla de salida se muestran\n",
    "las columnas relevantes.\n"
   ]
  },
  {
   "cell_type": "code",
   "execution_count": 568,
   "metadata": {},
   "outputs": [
    {
     "data": {
      "text/plain": [
       "Department            JobLevel\n",
       "Human_Resources       1            2706.0\n",
       "                      2            5910.0\n",
       "                      3            9756.0\n",
       "                      4           16799.0\n",
       "                      5           19189.0\n",
       "Research_Development  1            2700.0\n",
       "                      2            5238.0\n",
       "                      3           10293.0\n",
       "                      4           16413.0\n",
       "                      5           19326.0\n",
       "Sales                 1            2575.5\n",
       "                      2            5396.0\n",
       "                      3            9419.0\n",
       "                      4           15427.0\n",
       "                      5           19068.0\n",
       "Name: MonthlyIncome, dtype: float64"
      ]
     },
     "execution_count": 568,
     "metadata": {},
     "output_type": "execute_result"
    }
   ],
   "source": [
    "df = employees.groupby([\"Department\", \"JobLevel\"])[\n",
    "    \"MonthlyIncome\"].median().round(2)\n",
    "df\n"
   ]
  },
  {
   "cell_type": "code",
   "execution_count": 565,
   "metadata": {},
   "outputs": [
    {
     "data": {
      "text/plain": [
       "Department            JobLevel\n",
       "Research_Development  5           19326.0\n",
       "Human_Resources       5           19189.0\n",
       "Sales                 5           19068.0\n",
       "Human_Resources       4           16799.0\n",
       "Research_Development  4           16413.0\n",
       "Sales                 4           15427.0\n",
       "Research_Development  3           10293.0\n",
       "Human_Resources       3            9756.0\n",
       "Sales                 3            9419.0\n",
       "Human_Resources       2            5910.0\n",
       "Sales                 2            5396.0\n",
       "Research_Development  2            5238.0\n",
       "Human_Resources       1            2706.0\n",
       "Research_Development  1            2700.0\n",
       "Sales                 1            2575.5\n",
       "Name: MonthlyIncome, dtype: float64"
      ]
     },
     "execution_count": 565,
     "metadata": {},
     "output_type": "execute_result"
    }
   ],
   "source": [
    "df.sort_values(ascending=False)"
   ]
  },
  {
   "cell_type": "markdown",
   "metadata": {},
   "source": [
    "## Ejercicio 8\n"
   ]
  },
  {
   "cell_type": "markdown",
   "metadata": {},
   "source": [
    "C8: Si elegimos al azar un empleado cuyo nivel de satisfacción en el trabajo JobSatisfaction es\n",
    "VeryHigh, calcula la probabilidad de que sea soltero. Si elegimos un empleado de la empresa al azar\n",
    "¿cuál es la probabilidad de que sea una mujer que lleva más de cinco años en la empresa\n"
   ]
  },
  {
   "cell_type": "code",
   "execution_count": 572,
   "metadata": {},
   "outputs": [
    {
     "data": {
      "text/plain": [
       "0.35501355013550134"
      ]
     },
     "execution_count": 572,
     "metadata": {},
     "output_type": "execute_result"
    }
   ],
   "source": [
    "very_high_satisfaction_employees = employees[\n",
    "    employees[\"JobSatisfaction\"] == \"Very_High\"\n",
    "]\n",
    "\n",
    "prob_single_given_veryHighSatisfaction = (\n",
    "    very_high_satisfaction_employees[\"MaritalStatus\"]\n",
    "    .value_counts(normalize=True)\n",
    "    .loc[\"Single\"]\n",
    ")\n",
    "\n",
    "prob_single_given_veryHighSatisfaction"
   ]
  },
  {
   "cell_type": "code",
   "execution_count": 599,
   "metadata": {},
   "outputs": [
    {
     "data": {
      "text/plain": [
       "0.19726729291204098"
      ]
     },
     "execution_count": 599,
     "metadata": {},
     "output_type": "execute_result"
    }
   ],
   "source": [
    "((employees[\"Gender\"] == \"Female\") & (employees[\"YearsAtCompany\"] > 5)).mean()\n"
   ]
  },
  {
   "cell_type": "markdown",
   "metadata": {},
   "source": [
    "## Ejercicio 9\n"
   ]
  },
  {
   "cell_type": "markdown",
   "metadata": {},
   "source": [
    "C9: Si elegimos 12 empleados de esta compañía al azar y con remplezamiento, ¿cuál es la probabilidad\n",
    "de que 4 de ellos hayan trabajado en 3 o más compañías (NumCompaniesWorked)\n"
   ]
  },
  {
   "cell_type": "code",
   "execution_count": 597,
   "metadata": {},
   "outputs": [
    {
     "data": {
      "text/plain": [
       "0.2021"
      ]
     },
     "execution_count": 597,
     "metadata": {},
     "output_type": "execute_result"
    }
   ],
   "source": [
    "from scipy.stats import binom\n",
    "\n",
    "prob = (employees[\"NumCompaniesWorked\"] >= 3).mean()\n",
    "sample_size = 12\n",
    "k = 4\n",
    "\n",
    "binom.pmf(k, sample_size, prob).round(4)\n"
   ]
  },
  {
   "cell_type": "markdown",
   "metadata": {},
   "source": [
    "## Ejercicio 10\n"
   ]
  },
  {
   "cell_type": "markdown",
   "metadata": {},
   "source": [
    "C10: Haz una tabla de contingencia (dos por dos) de Attrition frente a Overtime, la variable que\n",
    "nos dice si un empleado hace o no horas extras. Supongamos que queremos usar Overtime como una\n",
    "especie de prueba diagnóstica de los valores de Attrition, equiparando enfermo/sano con Attrition\n",
    "Yes/No y test positivo/negativo con Overtime Yes/No. ¿Cuál es la tasa de falsos positivos de este test?\n",
    "¿Cuál es la precisión del test? Opcional: ¿cuáles son su sensibilidad y especificidad?\n"
   ]
  },
  {
   "cell_type": "code",
   "execution_count": 602,
   "metadata": {},
   "outputs": [
    {
     "data": {
      "text/html": [
       "<div>\n",
       "<style scoped>\n",
       "    .dataframe tbody tr th:only-of-type {\n",
       "        vertical-align: middle;\n",
       "    }\n",
       "\n",
       "    .dataframe tbody tr th {\n",
       "        vertical-align: top;\n",
       "    }\n",
       "\n",
       "    .dataframe thead th {\n",
       "        text-align: right;\n",
       "    }\n",
       "</style>\n",
       "<table border=\"1\" class=\"dataframe\">\n",
       "  <thead>\n",
       "    <tr style=\"text-align: right;\">\n",
       "      <th>Attrition</th>\n",
       "      <th>No</th>\n",
       "      <th>Yes</th>\n",
       "    </tr>\n",
       "    <tr>\n",
       "      <th>OverTime</th>\n",
       "      <th></th>\n",
       "      <th></th>\n",
       "    </tr>\n",
       "  </thead>\n",
       "  <tbody>\n",
       "    <tr>\n",
       "      <th>No</th>\n",
       "      <td>765</td>\n",
       "      <td>83</td>\n",
       "    </tr>\n",
       "    <tr>\n",
       "      <th>Yes</th>\n",
       "      <td>225</td>\n",
       "      <td>98</td>\n",
       "    </tr>\n",
       "  </tbody>\n",
       "</table>\n",
       "</div>"
      ],
      "text/plain": [
       "Attrition   No  Yes\n",
       "OverTime           \n",
       "No         765   83\n",
       "Yes        225   98"
      ]
     },
     "execution_count": 602,
     "metadata": {},
     "output_type": "execute_result"
    }
   ],
   "source": [
    "contingency_table = pd.crosstab(employees[\"OverTime\"], employees[\"Attrition\"])\n",
    "contingency_table"
   ]
  },
  {
   "cell_type": "code",
   "execution_count": 605,
   "metadata": {},
   "outputs": [],
   "source": [
    "[true_negative, false_negative], [\n",
    "    false_positive,\n",
    "    true_positive,\n",
    "] = contingency_table.to_numpy()\n",
    "total = contingency_table.to_numpy().sum()\n"
   ]
  },
  {
   "cell_type": "code",
   "execution_count": 608,
   "metadata": {},
   "outputs": [
    {
     "data": {
      "text/plain": [
       "0.6965944272445821"
      ]
     },
     "execution_count": 608,
     "metadata": {},
     "output_type": "execute_result"
    }
   ],
   "source": [
    "false_positive_rate = false_positive / (false_positive + true_positive)\n",
    "false_positive_rate"
   ]
  },
  {
   "cell_type": "code",
   "execution_count": 610,
   "metadata": {},
   "outputs": [
    {
     "data": {
      "text/plain": [
       "0.7369769427839453"
      ]
     },
     "execution_count": 610,
     "metadata": {},
     "output_type": "execute_result"
    }
   ],
   "source": [
    "precision = (true_positive + true_negative) / total\n",
    "precision"
   ]
  },
  {
   "cell_type": "markdown",
   "metadata": {},
   "source": [
    "## Ejercicio 11\n"
   ]
  },
  {
   "cell_type": "markdown",
   "metadata": {},
   "source": [
    "C11: Asumiendo la normalidad de los datos, calcula un intervalo de confianza al 95% para la edad\n",
    "medio de los empleados del departamento más numeroso de la empresa. Opcional: ¿crees que está\n",
    "justificada la hipótesis de normalidad de esos datos?\n"
   ]
  },
  {
   "cell_type": "code",
   "execution_count": null,
   "metadata": {},
   "outputs": [],
   "source": [
    "def get_confidence_interval(sample, confidence_level=0.95, distribution=\"StudentsT\"):\n",
    "    \"\"\"\n",
    "    Given a one-variable size-m sample and the desired confidence level, returns the confidence interval of the mean.\n",
    "\n",
    "    Args:\n",
    "        sample : (numpy.ndarray Shape (m)) Sample\n",
    "        confidence_level: (float in [0,1]) Probability that the mean of the population falls inside the confidence interval\n",
    "        distribution: (\"StudentsT\" or \"Normal\") Use \"StudentsT\" for small samples, and \"Normal\" for big samples\n",
    "\n",
    "\n",
    "    Returns:\n",
    "        confidence_interval: (numpy.ndarray Shape (2)) The interval where the mean of the population falls, with a probability of p = confidence_level\n",
    "        delta: (float): half-width of the interval\n",
    "\n",
    "    \"\"\"\n",
    "\n",
    "    # Probability that the population mean falls outside the confidence interval\n",
    "    alpha = 1 - confidence_level\n",
    "\n",
    "    # Use the specified distribution to calculate the critical point\n",
    "    if distribution == \"StudentsT\":\n",
    "        degrees_of_freedom = sample.size - 1\n",
    "        critical_point = stats.t.ppf(1 - alpha / 2, degrees_of_freedom)\n",
    "    elif distribution == \"Normal\":\n",
    "        critical_point = stats.norm.ppf(1 - alpha / 2, loc=0, scale=1)\n",
    "    else:\n",
    "        raise ValueError(\"distribution must be either 'StudentsT' or 'Normal\")\n",
    "\n",
    "    # Calculate the half-width (delta) and the confidence interval\n",
    "    delta = critical_point * sample.std() / np.sqrt([sample.size])\n",
    "    confidence_interval = sample.mean() + np.array([-1, +1]) * delta\n",
    "\n",
    "    return confidence_interval, delta"
   ]
  },
  {
   "cell_type": "code",
   "execution_count": null,
   "metadata": {},
   "outputs": [
    {
     "data": {
      "text/plain": [
       "Department\n",
       "Research_Development    771\n",
       "Sales                   350\n",
       "Human_Resources          50\n",
       "Name: count, dtype: int64"
      ]
     },
     "execution_count": 474,
     "metadata": {},
     "output_type": "execute_result"
    }
   ],
   "source": [
    "employees[\"Department\"].value_counts()\n"
   ]
  },
  {
   "cell_type": "code",
   "execution_count": null,
   "metadata": {},
   "outputs": [
    {
     "data": {
      "text/plain": [
       "array([36.42550118, 37.71198261])"
      ]
     },
     "execution_count": 475,
     "metadata": {},
     "output_type": "execute_result"
    }
   ],
   "source": [
    "sample = employees[employees[\"Department\"] ==\n",
    "                   \"Research_Development\"][\"Age\"].to_numpy()\n",
    "confidence_level, delta = get_confidence_interval(\n",
    "    sample, confidence_level=0.95, distribution=\"StudentsT\"\n",
    ")\n",
    "confidence_level\n"
   ]
  },
  {
   "cell_type": "code",
   "execution_count": null,
   "metadata": {},
   "outputs": [
    {
     "data": {
      "text/plain": [
       "<Axes: ylabel='Count'>"
      ]
     },
     "execution_count": 476,
     "metadata": {},
     "output_type": "execute_result"
    },
    {
     "data": {
      "image/png": "[encoded data removed]",
      "text/plain": [
       "<Figure size 640x480 with 1 Axes>"
      ]
     },
     "metadata": {},
     "output_type": "display_data"
    }
   ],
   "source": [
    "sns.histplot(sample)"
   ]
  },
  {
   "cell_type": "markdown",
   "metadata": {},
   "source": [
    "## Ejercicio 12\n"
   ]
  },
  {
   "cell_type": "markdown",
   "metadata": {},
   "source": [
    "C12: Toma una muestra aleatoria y con remplazamiento de 20 empleados del departamento de ventas\n",
    "y haz un contraste (al 95% de significación) de la hipótesis nula: la distancia media a su domicilio es\n",
    "de 9 km. Asegúrate de mantener el comando set.seed como primera línea de tu respuesta en este\n",
    "apartado para garantizar la reproducibilidad.\n"
   ]
  },
  {
   "cell_type": "code",
   "execution_count": null,
   "metadata": {},
   "outputs": [
    {
     "data": {
      "text/plain": [
       "Department\n",
       "Research_Development    771\n",
       "Sales                   350\n",
       "Human_Resources          50\n",
       "Name: count, dtype: int64"
      ]
     },
     "execution_count": 477,
     "metadata": {},
     "output_type": "execute_result"
    }
   ],
   "source": [
    "employees[\"Department\"].value_counts()\n"
   ]
  },
  {
   "cell_type": "code",
   "execution_count": null,
   "metadata": {},
   "outputs": [
    {
     "name": "stdout",
     "output_type": "stream",
     "text": [
      "The t score for this sample is 0.4341\n",
      "And the resulting p-value is: 0.3346\n",
      "The p-value=0.3346 is not smaller than alpha=0.05. Therefore we cannot reject the null hypothesis.\n"
     ]
    }
   ],
   "source": [
    "sample = employees[employees[\"Department\"] == \"Sales\"].sample(n=20, random_state=0)[\n",
    "    \"DistanceFromHome\"\n",
    "]\n",
    "\n",
    "mu0 = 9\n",
    "n = sample.shape[0]\n",
    "dof = n - 1\n",
    "barX = sample.mean()\n",
    "s = sample.std()\n",
    "\n",
    "Tscore = (barX - mu0) / (s / np.sqrt(n))\n",
    "print(\"The t score for this sample is {:.4}\".format(Tscore))\n",
    "\n",
    "pValue = stats.t.sf(Tscore, df=dof)\n",
    "print(\"And the resulting p-value is: {:.4}\".format(pValue))\n",
    "\n",
    "significance_level = 0.95\n",
    "alpha = 1 - significance_level\n",
    "print(\n",
    "    f\"The p-value={round(pValue, 4)} is not smaller than alpha={round(alpha, 4)}. Therefore we cannot reject the null hypothesis.\"\n",
    ")\n"
   ]
  },
  {
   "cell_type": "markdown",
   "metadata": {},
   "source": [
    "## Ejercicio 13\n"
   ]
  },
  {
   "cell_type": "markdown",
   "metadata": {},
   "source": [
    "C13: Considerando los empleados del departamento Research_Development vamos a hacer un modelo\n",
    "de regresión lineal para las dos variables:\n",
    "x:YearsAtCompany y:MonthlyIncome\n",
    "Construye el modelo usando la función lm y además dibuja el diagrama de dispersión de esas variables\n",
    "junto con la recta de regresión obtenida. ¿Qué porcentaje de la variabilidad en el salario mensual se\n",
    "explica con el modelo? ¿Cuánto se incrementa el salario mensual de un empleado de ese departamento\n",
    "por cada año de antigüedad en la empresa?\n"
   ]
  },
  {
   "cell_type": "code",
   "execution_count": null,
   "metadata": {},
   "outputs": [
    {
     "data": {
      "text/plain": [
       "<Axes: >"
      ]
     },
     "execution_count": 479,
     "metadata": {},
     "output_type": "execute_result"
    },
    {
     "data": {
      "image/png": "[encoded data removed]",
      "text/plain": [
       "<Figure size 640x480 with 1 Axes>"
      ]
     },
     "metadata": {},
     "output_type": "display_data"
    }
   ],
   "source": [
    "x, y = (\n",
    "    employees[employees[\"Department\"] == \"Research_Development\"][\n",
    "        [\"YearsAtCompany\", \"MonthlyIncome\"]\n",
    "    ]\n",
    "    .to_numpy()\n",
    "    .T\n",
    ")\n",
    "\n",
    "sns.regplot(x=x, y=y)\n"
   ]
  }
 ],
 "metadata": {
  "kernelspec": {
   "display_name": "base",
   "language": "python",
   "name": "python3"
  },
  "language_info": {
   "codemirror_mode": {
    "name": "ipython",
    "version": 3
   },
   "file_extension": ".py",
   "mimetype": "text/x-python",
   "name": "python",
   "nbconvert_exporter": "python",
   "pygments_lexer": "ipython3",
   "version": "3.9.18"
  }
 },
 "nbformat": 4,
 "nbformat_minor": 2
}
